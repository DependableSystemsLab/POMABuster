{
 "cells": [
  {
   "cell_type": "code",
   "execution_count": 1,
   "id": "ab4c097f-aada-4149-a945-2fb3f4c6e194",
   "metadata": {
    "scrolled": true
   },
   "outputs": [
    {
     "name": "stdout",
     "output_type": "stream",
     "text": [
      "Requirement already satisfied: pandas in e:\\codebase\\defi-deep-dive\\.venv\\lib\\site-packages (2.1.0)\n",
      "Requirement already satisfied: numpy>=1.22.4 in e:\\codebase\\defi-deep-dive\\.venv\\lib\\site-packages (from pandas) (1.25.2)\n",
      "Requirement already satisfied: python-dateutil>=2.8.2 in e:\\codebase\\defi-deep-dive\\.venv\\lib\\site-packages (from pandas) (2.8.2)\n",
      "Requirement already satisfied: pytz>=2020.1 in e:\\codebase\\defi-deep-dive\\.venv\\lib\\site-packages (from pandas) (2023.3.post1)\n",
      "Requirement already satisfied: tzdata>=2022.1 in e:\\codebase\\defi-deep-dive\\.venv\\lib\\site-packages (from pandas) (2023.3)\n",
      "Requirement already satisfied: six>=1.5 in e:\\codebase\\defi-deep-dive\\.venv\\lib\\site-packages (from python-dateutil>=2.8.2->pandas) (1.16.0)\n",
      "Could not fetch URL https://pypi.org/simple/pip/: There was a problem confirming the ssl certificate: HTTPSConnectionPool(host='pypi.org', port=443): Max retries exceeded with url: /simple/pip/ (Caused by SSLError(SSLEOFError(8, 'EOF occurred in violation of protocol (_ssl.c:997)'))) - skipping\n"
     ]
    }
   ],
   "source": [
    "!pip install pandas"
   ]
  },
  {
   "cell_type": "code",
   "execution_count": 2,
   "id": "57634873-2c37-4c50-94e4-e8e9821ce284",
   "metadata": {},
   "outputs": [
    {
     "name": "stdout",
     "output_type": "stream",
     "text": [
      "Requirement already satisfied: tqdm in e:\\codebase\\defi-deep-dive\\.venv\\lib\\site-packages (4.66.1)\n",
      "Requirement already satisfied: colorama in e:\\codebase\\defi-deep-dive\\.venv\\lib\\site-packages (from tqdm) (0.4.6)\n",
      "Could not fetch URL https://pypi.org/simple/pip/: There was a problem confirming the ssl certificate: HTTPSConnectionPool(host='pypi.org', port=443): Max retries exceeded with url: /simple/pip/ (Caused by SSLError(SSLEOFError(8, 'EOF occurred in violation of protocol (_ssl.c:997)'))) - skipping\n"
     ]
    }
   ],
   "source": [
    "!pip install tqdm"
   ]
  },
  {
   "cell_type": "code",
   "execution_count": 3,
   "id": "7dc798ab-245d-4022-a4bb-b94be1498f48",
   "metadata": {
    "scrolled": true
   },
   "outputs": [
    {
     "name": "stdout",
     "output_type": "stream",
     "text": [
      "Requirement already satisfied: matplotlib in e:\\codebase\\defi-deep-dive\\.venv\\lib\\site-packages (3.8.1)\n",
      "Requirement already satisfied: contourpy>=1.0.1 in e:\\codebase\\defi-deep-dive\\.venv\\lib\\site-packages (from matplotlib) (1.1.1)\n",
      "Requirement already satisfied: cycler>=0.10 in e:\\codebase\\defi-deep-dive\\.venv\\lib\\site-packages (from matplotlib) (0.12.1)\n",
      "Requirement already satisfied: fonttools>=4.22.0 in e:\\codebase\\defi-deep-dive\\.venv\\lib\\site-packages (from matplotlib) (4.43.1)\n",
      "Requirement already satisfied: kiwisolver>=1.3.1 in e:\\codebase\\defi-deep-dive\\.venv\\lib\\site-packages (from matplotlib) (1.4.5)\n",
      "Requirement already satisfied: numpy<2,>=1.21 in e:\\codebase\\defi-deep-dive\\.venv\\lib\\site-packages (from matplotlib) (1.25.2)\n",
      "Requirement already satisfied: packaging>=20.0 in e:\\codebase\\defi-deep-dive\\.venv\\lib\\site-packages (from matplotlib) (23.1)\n",
      "Requirement already satisfied: pillow>=8 in e:\\codebase\\defi-deep-dive\\.venv\\lib\\site-packages (from matplotlib) (10.1.0)\n",
      "Requirement already satisfied: pyparsing>=2.3.1 in e:\\codebase\\defi-deep-dive\\.venv\\lib\\site-packages (from matplotlib) (3.1.1)\n",
      "Requirement already satisfied: python-dateutil>=2.7 in e:\\codebase\\defi-deep-dive\\.venv\\lib\\site-packages (from matplotlib) (2.8.2)\n",
      "Requirement already satisfied: six>=1.5 in e:\\codebase\\defi-deep-dive\\.venv\\lib\\site-packages (from python-dateutil>=2.7->matplotlib) (1.16.0)\n",
      "Could not fetch URL https://pypi.org/simple/pip/: There was a problem confirming the ssl certificate: HTTPSConnectionPool(host='pypi.org', port=443): Max retries exceeded with url: /simple/pip/ (Caused by SSLError(SSLEOFError(8, 'EOF occurred in violation of protocol (_ssl.c:997)'))) - skipping\n"
     ]
    }
   ],
   "source": [
    "!pip install matplotlib"
   ]
  },
  {
   "cell_type": "code",
   "execution_count": 4,
   "id": "898c45a4-f6c3-42b9-865e-d4ebefc646ce",
   "metadata": {},
   "outputs": [],
   "source": [
    "import pandas as pd"
   ]
  },
  {
   "cell_type": "code",
   "execution_count": 5,
   "id": "c3305d5b-9acd-451d-a034-d3b6bcadf72f",
   "metadata": {},
   "outputs": [],
   "source": [
    "pom_fn = \"X:\\\\pomabuster\\\\pom\\\\pom2.jsonl\"\n",
    "arb_fn = \"X:\\\\pomabuster\\\\arb\\\\arb2.jsonl\"\n",
    "\n",
    "pom_df = pd.read_json(pom_fn, lines=True)\n",
    "arb_df = pd.read_json(arb_fn, lines=True)"
   ]
  },
  {
   "cell_type": "code",
   "execution_count": 6,
   "id": "4f27a4f8-5e7b-484d-b076-cb3b24332a21",
   "metadata": {},
   "outputs": [
    {
     "data": {
      "text/html": [
       "<div>\n",
       "<style scoped>\n",
       "    .dataframe tbody tr th:only-of-type {\n",
       "        vertical-align: middle;\n",
       "    }\n",
       "\n",
       "    .dataframe tbody tr th {\n",
       "        vertical-align: top;\n",
       "    }\n",
       "\n",
       "    .dataframe thead th {\n",
       "        text-align: right;\n",
       "    }\n",
       "</style>\n",
       "<table border=\"1\" class=\"dataframe\">\n",
       "  <thead>\n",
       "    <tr style=\"text-align: right;\">\n",
       "      <th></th>\n",
       "      <th>block_number</th>\n",
       "      <th>transaction_hash</th>\n",
       "      <th>token_address</th>\n",
       "      <th>from_address</th>\n",
       "      <th>to_address</th>\n",
       "      <th>value</th>\n",
       "      <th>operator</th>\n",
       "      <th>recipient</th>\n",
       "      <th>is_trade</th>\n",
       "    </tr>\n",
       "  </thead>\n",
       "  <tbody>\n",
       "    <tr>\n",
       "      <th>30183</th>\n",
       "      <td>13759385</td>\n",
       "      <td>0xc5c73aa14d84630308489dac661acb13b4041188acf1...</td>\n",
       "      <td>[0xeb4c2781e4eba804ce9a9803c67d0893436bb27d, 0...</td>\n",
       "      <td>[0xd749bfe5de0326a0931e8b30bbb7e8ec91b47094, 0...</td>\n",
       "      <td>[0x220bda5c8994804ac96ebe4df184d25e5c2196d4, 0...</td>\n",
       "      <td>[397104056, 397104056, 397141302, 205623881371...</td>\n",
       "      <td>0xd749bfe5de0326a0931e8b30bbb7e8ec91b47094</td>\n",
       "      <td>0xd749bfe5de0326a0931e8b30bbb7e8ec91b47094</td>\n",
       "      <td>True</td>\n",
       "    </tr>\n",
       "  </tbody>\n",
       "</table>\n",
       "</div>"
      ],
      "text/plain": [
       "       block_number                                   transaction_hash  \\\n",
       "30183      13759385  0xc5c73aa14d84630308489dac661acb13b4041188acf1...   \n",
       "\n",
       "                                           token_address  \\\n",
       "30183  [0xeb4c2781e4eba804ce9a9803c67d0893436bb27d, 0...   \n",
       "\n",
       "                                            from_address  \\\n",
       "30183  [0xd749bfe5de0326a0931e8b30bbb7e8ec91b47094, 0...   \n",
       "\n",
       "                                              to_address  \\\n",
       "30183  [0x220bda5c8994804ac96ebe4df184d25e5c2196d4, 0...   \n",
       "\n",
       "                                                   value  \\\n",
       "30183  [397104056, 397104056, 397141302, 205623881371...   \n",
       "\n",
       "                                         operator  \\\n",
       "30183  0xd749bfe5de0326a0931e8b30bbb7e8ec91b47094   \n",
       "\n",
       "                                        recipient  is_trade  \n",
       "30183  0xd749bfe5de0326a0931e8b30bbb7e8ec91b47094      True  "
      ]
     },
     "execution_count": 6,
     "metadata": {},
     "output_type": "execute_result"
    }
   ],
   "source": [
    "pom_df.sample()"
   ]
  },
  {
   "cell_type": "code",
   "execution_count": 7,
   "id": "4fcfc79a-f92f-41b5-92c6-24fd7bcea2ea",
   "metadata": {},
   "outputs": [
    {
     "data": {
      "text/html": [
       "<div>\n",
       "<style scoped>\n",
       "    .dataframe tbody tr th:only-of-type {\n",
       "        vertical-align: middle;\n",
       "    }\n",
       "\n",
       "    .dataframe tbody tr th {\n",
       "        vertical-align: top;\n",
       "    }\n",
       "\n",
       "    .dataframe thead th {\n",
       "        text-align: right;\n",
       "    }\n",
       "</style>\n",
       "<table border=\"1\" class=\"dataframe\">\n",
       "  <thead>\n",
       "    <tr style=\"text-align: right;\">\n",
       "      <th></th>\n",
       "      <th>block_number</th>\n",
       "      <th>transaction_hash</th>\n",
       "      <th>token_address</th>\n",
       "      <th>from_address</th>\n",
       "      <th>to_address</th>\n",
       "      <th>value</th>\n",
       "      <th>operator</th>\n",
       "      <th>recipient</th>\n",
       "      <th>is_trade</th>\n",
       "    </tr>\n",
       "  </thead>\n",
       "  <tbody>\n",
       "    <tr>\n",
       "      <th>150170</th>\n",
       "      <td>11952716</td>\n",
       "      <td>0x5d7729ac3661667fd33e04dcc62a6f677ed0266b23f1...</td>\n",
       "      <td>[0xc02aaa39b223fe8d0a0e5c4f27ead9083c756cc2, 0...</td>\n",
       "      <td>[0x0000000000007f150bd6f54c40a34d7c3d5e9f56, 0...</td>\n",
       "      <td>[0x349388dafb463ba2bc5cedc8ebc55c25d70f61bb, 0...</td>\n",
       "      <td>[950212720000000000, 979492626414188308673, 97...</td>\n",
       "      <td>0x0000000000007f150bd6f54c40a34d7c3d5e9f56</td>\n",
       "      <td>0x0000000000007f150bd6f54c40a34d7c3d5e9f56</td>\n",
       "      <td>True</td>\n",
       "    </tr>\n",
       "  </tbody>\n",
       "</table>\n",
       "</div>"
      ],
      "text/plain": [
       "        block_number                                   transaction_hash  \\\n",
       "150170      11952716  0x5d7729ac3661667fd33e04dcc62a6f677ed0266b23f1...   \n",
       "\n",
       "                                            token_address  \\\n",
       "150170  [0xc02aaa39b223fe8d0a0e5c4f27ead9083c756cc2, 0...   \n",
       "\n",
       "                                             from_address  \\\n",
       "150170  [0x0000000000007f150bd6f54c40a34d7c3d5e9f56, 0...   \n",
       "\n",
       "                                               to_address  \\\n",
       "150170  [0x349388dafb463ba2bc5cedc8ebc55c25d70f61bb, 0...   \n",
       "\n",
       "                                                    value  \\\n",
       "150170  [950212720000000000, 979492626414188308673, 97...   \n",
       "\n",
       "                                          operator  \\\n",
       "150170  0x0000000000007f150bd6f54c40a34d7c3d5e9f56   \n",
       "\n",
       "                                         recipient  is_trade  \n",
       "150170  0x0000000000007f150bd6f54c40a34d7c3d5e9f56      True  "
      ]
     },
     "execution_count": 7,
     "metadata": {},
     "output_type": "execute_result"
    }
   ],
   "source": [
    "arb_df.sample()"
   ]
  },
  {
   "cell_type": "code",
   "execution_count": 8,
   "id": "64605ab8-7ca9-455f-ab15-c91b315f1876",
   "metadata": {},
   "outputs": [],
   "source": [
    "from dataclasses import dataclass\n",
    "\n",
    "@dataclass\n",
    "class Log:\n",
    "    sender: str\n",
    "    receiver: str\n",
    "    amount: str\n",
    "    asset: str\n",
    "    idx: int\n",
    "    \n",
    "@dataclass\n",
    "class Trade:\n",
    "    operator: str\n",
    "    recipient: str\n",
    "    pool: str\n",
    "    asset_in: str\n",
    "    asset_out: str\n",
    "    amount_in: str\n",
    "    amount_out: str\n",
    "    log_idx: list"
   ]
  },
  {
   "cell_type": "code",
   "execution_count": 9,
   "id": "7a785940-e517-48f8-8ae6-86a211899166",
   "metadata": {},
   "outputs": [
    {
     "data": {
      "text/plain": [
       "block_number                                                 16206489\n",
       "transaction_hash    0x849776a908b33fd6fa74df9e3a51b89673373df18bae...\n",
       "token_address       [0x8207c1ffc5b6804f6024322ccf34f29c3541ae26, 0...\n",
       "from_address        [0x70bb8e6844dfb681810fd557dd741bcaf027bf94, 0...\n",
       "to_address          [0xdcf0cb36e8e9d0607242e2e7babea5ba3395628f, 0...\n",
       "value               [5626319686999554303963996, 260925895183678021...\n",
       "operator                   0x70bb8e6844dfb681810fd557dd741bcaf027bf94\n",
       "recipient                  0x3caca7b48d0573d793d3b0279b5f0029180e83b6\n",
       "is_trade                                                         True\n",
       "Name: 7097, dtype: object"
      ]
     },
     "execution_count": 9,
     "metadata": {},
     "output_type": "execute_result"
    }
   ],
   "source": [
    "pom_df.iloc[7097]"
   ]
  },
  {
   "cell_type": "code",
   "execution_count": 10,
   "id": "5042140b-e968-4db6-ac05-5591f1ed24e7",
   "metadata": {},
   "outputs": [],
   "source": [
    "def parse_record(record):\n",
    "    assets = record.token_address\n",
    "    senders = record.from_address\n",
    "    receivers = record.to_address\n",
    "    amounts = record.value\n",
    "    logs = []\n",
    "    for i in range(len(assets)):      \n",
    "        log_dict = {\n",
    "            \"idx\": i,\n",
    "            \"asset\": assets[i],\n",
    "            \"sender\": senders[i],\n",
    "            \"receiver\": receivers[i],\n",
    "            \"amount\": amounts[i],\n",
    "        }\n",
    "        logs.append(Log(**log_dict))\n",
    "    return logs"
   ]
  },
  {
   "cell_type": "code",
   "execution_count": 11,
   "id": "2b6515ce-1908-41fb-8a20-950805b00299",
   "metadata": {},
   "outputs": [
    {
     "data": {
      "text/plain": [
       "{'0x03ab458634910aad20ef5f1c8ee96f1d6ac54919',\n",
       " '0x6b175474e89094c44da98b954eedeac495271d0f'}"
      ]
     },
     "execution_count": 11,
     "metadata": {},
     "output_type": "execute_result"
    }
   ],
   "source": [
    "pom_logs = parse_record(pom_df.iloc[0])\n",
    "pom_assets = set([log.asset for log in pom_logs])\n",
    "pom_block_number = pom_df.iloc[0][\"block_number\"]\n",
    "pom_assets"
   ]
  },
  {
   "cell_type": "code",
   "execution_count": 12,
   "id": "56954d3e-8d5b-40b1-9f01-7ee66dcc4ccc",
   "metadata": {},
   "outputs": [
    {
     "data": {
      "text/html": [
       "<div>\n",
       "<style scoped>\n",
       "    .dataframe tbody tr th:only-of-type {\n",
       "        vertical-align: middle;\n",
       "    }\n",
       "\n",
       "    .dataframe tbody tr th {\n",
       "        vertical-align: top;\n",
       "    }\n",
       "\n",
       "    .dataframe thead th {\n",
       "        text-align: right;\n",
       "    }\n",
       "</style>\n",
       "<table border=\"1\" class=\"dataframe\">\n",
       "  <thead>\n",
       "    <tr style=\"text-align: right;\">\n",
       "      <th></th>\n",
       "      <th>block_number</th>\n",
       "      <th>transaction_hash</th>\n",
       "      <th>token_address</th>\n",
       "      <th>from_address</th>\n",
       "      <th>to_address</th>\n",
       "      <th>value</th>\n",
       "      <th>operator</th>\n",
       "      <th>recipient</th>\n",
       "      <th>is_trade</th>\n",
       "    </tr>\n",
       "  </thead>\n",
       "  <tbody>\n",
       "    <tr>\n",
       "      <th>488302</th>\n",
       "      <td>12465436</td>\n",
       "      <td>0x146d1444865b017ea9635ff1c0c7a7c15516fa409e30...</td>\n",
       "      <td>[0xc02aaa39b223fe8d0a0e5c4f27ead9083c756cc2, 0...</td>\n",
       "      <td>[0x0000000089341e263b85d84a0eea39f47c37a9d2, 0...</td>\n",
       "      <td>[0xc3d03e4f041fd4cd388c549ee2a29a9e5075882f, 0...</td>\n",
       "      <td>[93100000000000000000, 22188658395411476909038...</td>\n",
       "      <td>0x0000000089341e263b85d84a0eea39f47c37a9d2</td>\n",
       "      <td>0x0000000089341e263b85d84a0eea39f47c37a9d2</td>\n",
       "      <td>True</td>\n",
       "    </tr>\n",
       "  </tbody>\n",
       "</table>\n",
       "</div>"
      ],
      "text/plain": [
       "        block_number                                   transaction_hash  \\\n",
       "488302      12465436  0x146d1444865b017ea9635ff1c0c7a7c15516fa409e30...   \n",
       "\n",
       "                                            token_address  \\\n",
       "488302  [0xc02aaa39b223fe8d0a0e5c4f27ead9083c756cc2, 0...   \n",
       "\n",
       "                                             from_address  \\\n",
       "488302  [0x0000000089341e263b85d84a0eea39f47c37a9d2, 0...   \n",
       "\n",
       "                                               to_address  \\\n",
       "488302  [0xc3d03e4f041fd4cd388c549ee2a29a9e5075882f, 0...   \n",
       "\n",
       "                                                    value  \\\n",
       "488302  [93100000000000000000, 22188658395411476909038...   \n",
       "\n",
       "                                          operator  \\\n",
       "488302  0x0000000089341e263b85d84a0eea39f47c37a9d2   \n",
       "\n",
       "                                         recipient  is_trade  \n",
       "488302  0x0000000089341e263b85d84a0eea39f47c37a9d2      True  "
      ]
     },
     "execution_count": 12,
     "metadata": {},
     "output_type": "execute_result"
    }
   ],
   "source": [
    "arb = arb_df[(arb_df[\"block_number\"] > pom_block_number) & (arb_df[\"block_number\"] - pom_block_number <= 2)]\n",
    "arb"
   ]
  },
  {
   "cell_type": "code",
   "execution_count": 13,
   "id": "dac3b629-99d1-438c-8fb1-0dbced03828f",
   "metadata": {},
   "outputs": [
    {
     "data": {
      "text/plain": [
       "['0xc02aaa39b223fe8d0a0e5c4f27ead9083c756cc2',\n",
       " '0x6b175474e89094c44da98b954eedeac495271d0f',\n",
       " '0xc02aaa39b223fe8d0a0e5c4f27ead9083c756cc2']"
      ]
     },
     "execution_count": 13,
     "metadata": {},
     "output_type": "execute_result"
    }
   ],
   "source": [
    "arb_logs = parse_record(arb.iloc[0])\n",
    "arb_assets = [log.asset for log in arb_logs]\n",
    "arb_assets"
   ]
  },
  {
   "cell_type": "code",
   "execution_count": 14,
   "id": "27994c2e-cf99-4389-a770-4d9f1be25df0",
   "metadata": {},
   "outputs": [
    {
     "name": "stderr",
     "output_type": "stream",
     "text": [
      "58957it [02:20, 419.60it/s]\n"
     ]
    }
   ],
   "source": [
    "from tqdm import tqdm\n",
    "\n",
    "link = []\n",
    "for _, pom in tqdm(pom_df.iterrows()):\n",
    "    pom_logs = parse_record(pom)\n",
    "    pom_assets = set([log.asset for log in pom_logs])\n",
    "    pom_block_number = pom[\"block_number\"]\n",
    "    arb = arb_df[(arb_df[\"block_number\"] >= pom_block_number) & (arb_df[\"block_number\"] - pom_block_number <= 2)]\n",
    "    if not arb.empty:\n",
    "        arb_logs = parse_record(arb.iloc[0])\n",
    "        arb_assets = set([log.asset for log in arb_logs])\n",
    "        if arb_assets.intersection(pom_assets):\n",
    "            link.append((pom[\"transaction_hash\"], arb.iloc[0][\"transaction_hash\"]))"
   ]
  },
  {
   "cell_type": "code",
   "execution_count": 15,
   "id": "3eabc5a9-3b57-4416-9523-fb4d486f69be",
   "metadata": {},
   "outputs": [
    {
     "data": {
      "text/plain": [
       "16581"
      ]
     },
     "execution_count": 15,
     "metadata": {},
     "output_type": "execute_result"
    }
   ],
   "source": [
    "len(link)"
   ]
  },
  {
   "cell_type": "code",
   "execution_count": 16,
   "id": "347aacfa-05cb-49f0-904d-0fc31f70a195",
   "metadata": {},
   "outputs": [
    {
     "data": {
      "text/html": [
       "<div>\n",
       "<style scoped>\n",
       "    .dataframe tbody tr th:only-of-type {\n",
       "        vertical-align: middle;\n",
       "    }\n",
       "\n",
       "    .dataframe tbody tr th {\n",
       "        vertical-align: top;\n",
       "    }\n",
       "\n",
       "    .dataframe thead th {\n",
       "        text-align: right;\n",
       "    }\n",
       "</style>\n",
       "<table border=\"1\" class=\"dataframe\">\n",
       "  <thead>\n",
       "    <tr style=\"text-align: right;\">\n",
       "      <th></th>\n",
       "      <th>pom_transaction_hash</th>\n",
       "      <th>arb_transaction_hash</th>\n",
       "    </tr>\n",
       "  </thead>\n",
       "  <tbody>\n",
       "    <tr>\n",
       "      <th>0</th>\n",
       "      <td>0x5dccf7377422eaa76613b770b088d7edf7c2bcfae00e...</td>\n",
       "      <td>0x146d1444865b017ea9635ff1c0c7a7c15516fa409e30...</td>\n",
       "    </tr>\n",
       "    <tr>\n",
       "      <th>1</th>\n",
       "      <td>0xca0c565f84ed6a3f984972aedaf74ebf98d173e950f2...</td>\n",
       "      <td>0x595c9b15fa0d2e20d6e9a2984db7689d18b40e316773...</td>\n",
       "    </tr>\n",
       "    <tr>\n",
       "      <th>2</th>\n",
       "      <td>0xaae9835fbdf73c594693d8c99ee6fd3a69de6c1a5244...</td>\n",
       "      <td>0x18945e46cd925cbe8b1c0f64ba852ffe06b7a9bbcbea...</td>\n",
       "    </tr>\n",
       "    <tr>\n",
       "      <th>3</th>\n",
       "      <td>0x99fa6f5af9c414d72554f2579f4e5239ede256c45a99...</td>\n",
       "      <td>0xfbe9dc34fd3d63a57b574c920fd223b71f2b06c3c9c1...</td>\n",
       "    </tr>\n",
       "    <tr>\n",
       "      <th>4</th>\n",
       "      <td>0xa22d3350fbde7901b3d355260ebb0a12b83ffb406bf6...</td>\n",
       "      <td>0x3645fdd74f85b482ee0e35cb677371edf8e4db3aa224...</td>\n",
       "    </tr>\n",
       "    <tr>\n",
       "      <th>...</th>\n",
       "      <td>...</td>\n",
       "      <td>...</td>\n",
       "    </tr>\n",
       "    <tr>\n",
       "      <th>16576</th>\n",
       "      <td>0x9d8a0bb73e81b747704d9fed5db85e58bd79e3b2ee1e...</td>\n",
       "      <td>0x726d90453615e5a0c8825d07870b06cbf99707bf05b7...</td>\n",
       "    </tr>\n",
       "    <tr>\n",
       "      <th>16577</th>\n",
       "      <td>0x754a9295ef700842916f8662c1cb7f4097404be61c6e...</td>\n",
       "      <td>0x6f2b13963fb9b295dd3069e4c5b4da612a0f5a85ed94...</td>\n",
       "    </tr>\n",
       "    <tr>\n",
       "      <th>16578</th>\n",
       "      <td>0xcf810cd9e2caf7e612f6fdea8333571c13a0d293d289...</td>\n",
       "      <td>0xe38f912c1333d5484f155766909223b18b0da10faf49...</td>\n",
       "    </tr>\n",
       "    <tr>\n",
       "      <th>16579</th>\n",
       "      <td>0x0468827952e016cf51e8a7ae047260e463e1acb80ff9...</td>\n",
       "      <td>0x0468827952e016cf51e8a7ae047260e463e1acb80ff9...</td>\n",
       "    </tr>\n",
       "    <tr>\n",
       "      <th>16580</th>\n",
       "      <td>0x468dc573714808a4e3f000d8a86d8a93d0ce293acad8...</td>\n",
       "      <td>0xd613074d9e1f3e135209df76cc080a2b7cd8f37b0de6...</td>\n",
       "    </tr>\n",
       "  </tbody>\n",
       "</table>\n",
       "<p>16581 rows × 2 columns</p>\n",
       "</div>"
      ],
      "text/plain": [
       "                                    pom_transaction_hash  \\\n",
       "0      0x5dccf7377422eaa76613b770b088d7edf7c2bcfae00e...   \n",
       "1      0xca0c565f84ed6a3f984972aedaf74ebf98d173e950f2...   \n",
       "2      0xaae9835fbdf73c594693d8c99ee6fd3a69de6c1a5244...   \n",
       "3      0x99fa6f5af9c414d72554f2579f4e5239ede256c45a99...   \n",
       "4      0xa22d3350fbde7901b3d355260ebb0a12b83ffb406bf6...   \n",
       "...                                                  ...   \n",
       "16576  0x9d8a0bb73e81b747704d9fed5db85e58bd79e3b2ee1e...   \n",
       "16577  0x754a9295ef700842916f8662c1cb7f4097404be61c6e...   \n",
       "16578  0xcf810cd9e2caf7e612f6fdea8333571c13a0d293d289...   \n",
       "16579  0x0468827952e016cf51e8a7ae047260e463e1acb80ff9...   \n",
       "16580  0x468dc573714808a4e3f000d8a86d8a93d0ce293acad8...   \n",
       "\n",
       "                                    arb_transaction_hash  \n",
       "0      0x146d1444865b017ea9635ff1c0c7a7c15516fa409e30...  \n",
       "1      0x595c9b15fa0d2e20d6e9a2984db7689d18b40e316773...  \n",
       "2      0x18945e46cd925cbe8b1c0f64ba852ffe06b7a9bbcbea...  \n",
       "3      0xfbe9dc34fd3d63a57b574c920fd223b71f2b06c3c9c1...  \n",
       "4      0x3645fdd74f85b482ee0e35cb677371edf8e4db3aa224...  \n",
       "...                                                  ...  \n",
       "16576  0x726d90453615e5a0c8825d07870b06cbf99707bf05b7...  \n",
       "16577  0x6f2b13963fb9b295dd3069e4c5b4da612a0f5a85ed94...  \n",
       "16578  0xe38f912c1333d5484f155766909223b18b0da10faf49...  \n",
       "16579  0x0468827952e016cf51e8a7ae047260e463e1acb80ff9...  \n",
       "16580  0xd613074d9e1f3e135209df76cc080a2b7cd8f37b0de6...  \n",
       "\n",
       "[16581 rows x 2 columns]"
      ]
     },
     "execution_count": 16,
     "metadata": {},
     "output_type": "execute_result"
    }
   ],
   "source": [
    "link_df = pd.DataFrame(link, columns=[\"pom_transaction_hash\",\"arb_transaction_hash\"])\n",
    "link_df"
   ]
  },
  {
   "cell_type": "code",
   "execution_count": 17,
   "id": "ea259d6a-1beb-48bf-9f4c-2e7f912a970d",
   "metadata": {},
   "outputs": [
    {
     "data": {
      "text/html": [
       "<div>\n",
       "<style scoped>\n",
       "    .dataframe tbody tr th:only-of-type {\n",
       "        vertical-align: middle;\n",
       "    }\n",
       "\n",
       "    .dataframe tbody tr th {\n",
       "        vertical-align: top;\n",
       "    }\n",
       "\n",
       "    .dataframe thead th {\n",
       "        text-align: right;\n",
       "    }\n",
       "</style>\n",
       "<table border=\"1\" class=\"dataframe\">\n",
       "  <thead>\n",
       "    <tr style=\"text-align: right;\">\n",
       "      <th></th>\n",
       "      <th>pom_transaction_hash</th>\n",
       "      <th>arb_transaction_hash</th>\n",
       "    </tr>\n",
       "  </thead>\n",
       "  <tbody>\n",
       "    <tr>\n",
       "      <th>5</th>\n",
       "      <td>0x0bb421acd8bf38f83121d50f0aaebc6ecca64cab1f71...</td>\n",
       "      <td>0x0bb421acd8bf38f83121d50f0aaebc6ecca64cab1f71...</td>\n",
       "    </tr>\n",
       "    <tr>\n",
       "      <th>7</th>\n",
       "      <td>0xbdefbcf724c2421cdb1e3f5cf9e05931d10db98bc41f...</td>\n",
       "      <td>0xbdefbcf724c2421cdb1e3f5cf9e05931d10db98bc41f...</td>\n",
       "    </tr>\n",
       "    <tr>\n",
       "      <th>9</th>\n",
       "      <td>0x4206204ab2197496ea8feb759def8fc311bf7361b4ca...</td>\n",
       "      <td>0x4206204ab2197496ea8feb759def8fc311bf7361b4ca...</td>\n",
       "    </tr>\n",
       "    <tr>\n",
       "      <th>11</th>\n",
       "      <td>0x8f977516ec35dd5333e4c42fd7ced553095424720265...</td>\n",
       "      <td>0x8f977516ec35dd5333e4c42fd7ced553095424720265...</td>\n",
       "    </tr>\n",
       "    <tr>\n",
       "      <th>12</th>\n",
       "      <td>0xa7889730f507afa57cb4911220dbdfa74d3b98dfd781...</td>\n",
       "      <td>0xa7889730f507afa57cb4911220dbdfa74d3b98dfd781...</td>\n",
       "    </tr>\n",
       "    <tr>\n",
       "      <th>...</th>\n",
       "      <td>...</td>\n",
       "      <td>...</td>\n",
       "    </tr>\n",
       "    <tr>\n",
       "      <th>16539</th>\n",
       "      <td>0x914000b6697018b8faa412f472330d03f824d230067f...</td>\n",
       "      <td>0x914000b6697018b8faa412f472330d03f824d230067f...</td>\n",
       "    </tr>\n",
       "    <tr>\n",
       "      <th>16546</th>\n",
       "      <td>0xd9c9990172eb10d466d5c21a3e5ec5983b7b60384cf2...</td>\n",
       "      <td>0xd9c9990172eb10d466d5c21a3e5ec5983b7b60384cf2...</td>\n",
       "    </tr>\n",
       "    <tr>\n",
       "      <th>16568</th>\n",
       "      <td>0x4cd635507dbe25eb6fad96e47f9cec3b87969be097ab...</td>\n",
       "      <td>0x4cd635507dbe25eb6fad96e47f9cec3b87969be097ab...</td>\n",
       "    </tr>\n",
       "    <tr>\n",
       "      <th>16574</th>\n",
       "      <td>0x67b85a0ff96f213f0fcfeb2a3f12bada530a9ff1d0e1...</td>\n",
       "      <td>0x67b85a0ff96f213f0fcfeb2a3f12bada530a9ff1d0e1...</td>\n",
       "    </tr>\n",
       "    <tr>\n",
       "      <th>16579</th>\n",
       "      <td>0x0468827952e016cf51e8a7ae047260e463e1acb80ff9...</td>\n",
       "      <td>0x0468827952e016cf51e8a7ae047260e463e1acb80ff9...</td>\n",
       "    </tr>\n",
       "  </tbody>\n",
       "</table>\n",
       "<p>4494 rows × 2 columns</p>\n",
       "</div>"
      ],
      "text/plain": [
       "                                    pom_transaction_hash  \\\n",
       "5      0x0bb421acd8bf38f83121d50f0aaebc6ecca64cab1f71...   \n",
       "7      0xbdefbcf724c2421cdb1e3f5cf9e05931d10db98bc41f...   \n",
       "9      0x4206204ab2197496ea8feb759def8fc311bf7361b4ca...   \n",
       "11     0x8f977516ec35dd5333e4c42fd7ced553095424720265...   \n",
       "12     0xa7889730f507afa57cb4911220dbdfa74d3b98dfd781...   \n",
       "...                                                  ...   \n",
       "16539  0x914000b6697018b8faa412f472330d03f824d230067f...   \n",
       "16546  0xd9c9990172eb10d466d5c21a3e5ec5983b7b60384cf2...   \n",
       "16568  0x4cd635507dbe25eb6fad96e47f9cec3b87969be097ab...   \n",
       "16574  0x67b85a0ff96f213f0fcfeb2a3f12bada530a9ff1d0e1...   \n",
       "16579  0x0468827952e016cf51e8a7ae047260e463e1acb80ff9...   \n",
       "\n",
       "                                    arb_transaction_hash  \n",
       "5      0x0bb421acd8bf38f83121d50f0aaebc6ecca64cab1f71...  \n",
       "7      0xbdefbcf724c2421cdb1e3f5cf9e05931d10db98bc41f...  \n",
       "9      0x4206204ab2197496ea8feb759def8fc311bf7361b4ca...  \n",
       "11     0x8f977516ec35dd5333e4c42fd7ced553095424720265...  \n",
       "12     0xa7889730f507afa57cb4911220dbdfa74d3b98dfd781...  \n",
       "...                                                  ...  \n",
       "16539  0x914000b6697018b8faa412f472330d03f824d230067f...  \n",
       "16546  0xd9c9990172eb10d466d5c21a3e5ec5983b7b60384cf2...  \n",
       "16568  0x4cd635507dbe25eb6fad96e47f9cec3b87969be097ab...  \n",
       "16574  0x67b85a0ff96f213f0fcfeb2a3f12bada530a9ff1d0e1...  \n",
       "16579  0x0468827952e016cf51e8a7ae047260e463e1acb80ff9...  \n",
       "\n",
       "[4494 rows x 2 columns]"
      ]
     },
     "execution_count": 17,
     "metadata": {},
     "output_type": "execute_result"
    }
   ],
   "source": [
    "link_df[link_df[\"pom_transaction_hash\"] == link_df[\"arb_transaction_hash\"] ]"
   ]
  },
  {
   "cell_type": "code",
   "execution_count": 18,
   "id": "f868dc33-d075-42f9-982b-ba989e4117b8",
   "metadata": {},
   "outputs": [],
   "source": [
    "pom_df.rename(columns={\"transaction_hash\": \"pom_transaction_hash\"}, inplace=True)\n",
    "arb_df.rename(columns={\"transaction_hash\": \"arb_transaction_hash\"}, inplace=True)"
   ]
  },
  {
   "cell_type": "code",
   "execution_count": 19,
   "id": "45b8c7b9-601c-44be-96b8-7348fe1f96f5",
   "metadata": {},
   "outputs": [],
   "source": [
    "result = pd.merge(pom_df, link_df, on=\"pom_transaction_hash\")\n",
    "result = pd.merge(result, arb_df, on=\"arb_transaction_hash\")"
   ]
  },
  {
   "cell_type": "code",
   "execution_count": 20,
   "id": "9b881ab9-22ee-423d-8445-029b0de228c0",
   "metadata": {},
   "outputs": [
    {
     "data": {
      "text/html": [
       "<div>\n",
       "<style scoped>\n",
       "    .dataframe tbody tr th:only-of-type {\n",
       "        vertical-align: middle;\n",
       "    }\n",
       "\n",
       "    .dataframe tbody tr th {\n",
       "        vertical-align: top;\n",
       "    }\n",
       "\n",
       "    .dataframe thead th {\n",
       "        text-align: right;\n",
       "    }\n",
       "</style>\n",
       "<table border=\"1\" class=\"dataframe\">\n",
       "  <thead>\n",
       "    <tr style=\"text-align: right;\">\n",
       "      <th></th>\n",
       "      <th>block_number_x</th>\n",
       "      <th>pom_transaction_hash</th>\n",
       "      <th>token_address_x</th>\n",
       "      <th>from_address_x</th>\n",
       "      <th>to_address_x</th>\n",
       "      <th>value_x</th>\n",
       "      <th>operator_x</th>\n",
       "      <th>recipient_x</th>\n",
       "      <th>is_trade_x</th>\n",
       "      <th>arb_transaction_hash</th>\n",
       "      <th>block_number_y</th>\n",
       "      <th>token_address_y</th>\n",
       "      <th>from_address_y</th>\n",
       "      <th>to_address_y</th>\n",
       "      <th>value_y</th>\n",
       "      <th>operator_y</th>\n",
       "      <th>recipient_y</th>\n",
       "      <th>is_trade_y</th>\n",
       "    </tr>\n",
       "  </thead>\n",
       "  <tbody>\n",
       "    <tr>\n",
       "      <th>6695</th>\n",
       "      <td>11975148</td>\n",
       "      <td>0xa55cb57174d48e8dde5d9af1883f91246d7daeda3b43...</td>\n",
       "      <td>[0xc02aaa39b223fe8d0a0e5c4f27ead9083c756cc2, 0...</td>\n",
       "      <td>[0x2d3cd7b81c93f188f3cb8ad87c8acc73d6226e3a, 0...</td>\n",
       "      <td>[0x1c3132aeb09f5dd5e1d8283bd4f0363e7ea81c95, 0...</td>\n",
       "      <td>[200000000000000000000, 500000000000000000, 19...</td>\n",
       "      <td>0x2d3cd7b81c93f188f3cb8ad87c8acc73d6226e3a</td>\n",
       "      <td>0x0000000000000000000000000000000000000000</td>\n",
       "      <td>True</td>\n",
       "      <td>0x156f49eb8c3fe00580398042fc51dc9444b20dc6733a...</td>\n",
       "      <td>11975149</td>\n",
       "      <td>[0xc02aaa39b223fe8d0a0e5c4f27ead9083c756cc2, 0...</td>\n",
       "      <td>[0x0000000089341e263b85d84a0eea39f47c37a9d2, 0...</td>\n",
       "      <td>[0x7dd3f5705504002dc946aeafe6629b9481b72272, 0...</td>\n",
       "      <td>[1838670000000000000, 831664807871932454547, 1...</td>\n",
       "      <td>0x0000000089341e263b85d84a0eea39f47c37a9d2</td>\n",
       "      <td>0x0000000089341e263b85d84a0eea39f47c37a9d2</td>\n",
       "      <td>True</td>\n",
       "    </tr>\n",
       "  </tbody>\n",
       "</table>\n",
       "</div>"
      ],
      "text/plain": [
       "      block_number_x                               pom_transaction_hash  \\\n",
       "6695        11975148  0xa55cb57174d48e8dde5d9af1883f91246d7daeda3b43...   \n",
       "\n",
       "                                        token_address_x  \\\n",
       "6695  [0xc02aaa39b223fe8d0a0e5c4f27ead9083c756cc2, 0...   \n",
       "\n",
       "                                         from_address_x  \\\n",
       "6695  [0x2d3cd7b81c93f188f3cb8ad87c8acc73d6226e3a, 0...   \n",
       "\n",
       "                                           to_address_x  \\\n",
       "6695  [0x1c3132aeb09f5dd5e1d8283bd4f0363e7ea81c95, 0...   \n",
       "\n",
       "                                                value_x  \\\n",
       "6695  [200000000000000000000, 500000000000000000, 19...   \n",
       "\n",
       "                                      operator_x  \\\n",
       "6695  0x2d3cd7b81c93f188f3cb8ad87c8acc73d6226e3a   \n",
       "\n",
       "                                     recipient_x  is_trade_x  \\\n",
       "6695  0x0000000000000000000000000000000000000000        True   \n",
       "\n",
       "                                   arb_transaction_hash  block_number_y  \\\n",
       "6695  0x156f49eb8c3fe00580398042fc51dc9444b20dc6733a...        11975149   \n",
       "\n",
       "                                        token_address_y  \\\n",
       "6695  [0xc02aaa39b223fe8d0a0e5c4f27ead9083c756cc2, 0...   \n",
       "\n",
       "                                         from_address_y  \\\n",
       "6695  [0x0000000089341e263b85d84a0eea39f47c37a9d2, 0...   \n",
       "\n",
       "                                           to_address_y  \\\n",
       "6695  [0x7dd3f5705504002dc946aeafe6629b9481b72272, 0...   \n",
       "\n",
       "                                                value_y  \\\n",
       "6695  [1838670000000000000, 831664807871932454547, 1...   \n",
       "\n",
       "                                      operator_y  \\\n",
       "6695  0x0000000089341e263b85d84a0eea39f47c37a9d2   \n",
       "\n",
       "                                     recipient_y  is_trade_y  \n",
       "6695  0x0000000089341e263b85d84a0eea39f47c37a9d2        True  "
      ]
     },
     "execution_count": 20,
     "metadata": {},
     "output_type": "execute_result"
    }
   ],
   "source": [
    "result.sample()"
   ]
  },
  {
   "cell_type": "code",
   "execution_count": 21,
   "id": "ba850ae4-0c89-4d3f-b2ad-d55f012c6617",
   "metadata": {},
   "outputs": [
    {
     "data": {
      "text/plain": [
       "16581"
      ]
     },
     "execution_count": 21,
     "metadata": {},
     "output_type": "execute_result"
    }
   ],
   "source": [
    "len(pd.merge(pom_df, link_df, on=\"pom_transaction_hash\"))"
   ]
  },
  {
   "cell_type": "code",
   "execution_count": 22,
   "id": "874b8cc2-f32d-4dbc-8562-1b8d12f77781",
   "metadata": {},
   "outputs": [],
   "source": [
    "merged_pom_df = pd.merge(pom_df, link_df, on=\"pom_transaction_hash\")"
   ]
  },
  {
   "cell_type": "code",
   "execution_count": 23,
   "id": "3e3bc720-f553-4878-b1b0-2083d8e1de08",
   "metadata": {
    "scrolled": true
   },
   "outputs": [
    {
     "name": "stderr",
     "output_type": "stream",
     "text": [
      "16581it [00:01, 14848.97it/s]\n"
     ]
    },
    {
     "data": {
      "text/plain": [
       "{'0x6b175474e89094c44da98b954eedeac495271d0f': 3315,\n",
       " '0x03ab458634910aad20ef5f1c8ee96f1d6ac54919': 1334,\n",
       " '0xa0b86991c6218b36c1d19d4a2e9eb0ce3606eb48': 6023,\n",
       " '0xdac17f958d2ee523a2206206994597c13d831ec7': 3350,\n",
       " '0xc02aaa39b223fe8d0a0e5c4f27ead9083c756cc2': 11997,\n",
       " '0x1f573d6fb3f13d689ff844b4ce37794d79a7ff1c': 866,\n",
       " '0x2260fac5e5542a773aa44fbcfedf7c193bc2c599': 4115,\n",
       " '0xeb4c2781e4eba804ce9a9803c67d0893436bb27d': 3265,\n",
       " '0x57ab1ec28d129707052df4df418d58a2d46d5f51': 2452,\n",
       " '0x5e74c9036fb86bd7ecdcb084a0673efc32ea31cb': 568,\n",
       " '0x6f40d4a6237c257fff2db00fa0510deeecd303eb': 98,\n",
       " '0x96e61422b6a9ba0e068b6c5add4ffabc6a4aae27': 72,\n",
       " '0x44709a920fccf795fbc57baa433cc3dd53c44dbe': 3,\n",
       " '0x99d8a9c45b2eca8864373a26d1459e3dff1e17f3': 131,\n",
       " '0x4e3fbd56cd56c3e72c1403e103b45db9da5b9d2b': 60,\n",
       " '0xe2f2a5c287993345a840db3b0845fbc70f5935a5': 275,\n",
       " '0x1f9840a85d5af5bf1d1762f925bdaddc4201f984': 304,\n",
       " '0x4ddc2d193948926d02f9b1fe9e1daa0718270ed5': 297,\n",
       " '0x6c8c6b02e7b2be14d4fa6022dfd6d75921d90e4e': 15,\n",
       " '0x0d8775f648430679a709e98d2b0cb6250d2887ef': 56,\n",
       " '0x761d38e5ddf6ccf6cf7c55759d5210750b5d60f3': 9,\n",
       " '0xc00e94cb662c3520282e6f5717214004a7f26888': 636,\n",
       " '0xc011a73ee8576fb46f5e1c5751ca3b9fe0af2a6f': 260,\n",
       " '0x6b3595068778dd592e39a122f4f5a5cf09c90fe2': 501,\n",
       " '0x39aa39c021dfbae8fac545936693ac917d5e7563': 624,\n",
       " '0xf650c3d88d12db855b8bf7d11be6c55a4e07dcc9': 63,\n",
       " '0x514910771af9ca656af840dff83e8264ecf986ca': 390,\n",
       " '0x68037790a0229e9ce6eaa8a99ea92964106c4703': 485,\n",
       " '0x1a7e4e63778b4f12a199c062f3efdd288afcbce8': 194,\n",
       " '0x4fabb145d64652a948d72533023f6e7a623c7c53': 26,\n",
       " '0xa1faa113cbe53436df28ff0aee54275c13b40975': 21,\n",
       " '0xec67005c4e498ec7f55e092bd1d35cbc47c91892': 214,\n",
       " '0x9f8f72aa9304c8b593d555f12ef6589cc3a579a2': 209,\n",
       " '0xba100000625a3754423978a60c9317c58a424e3d': 143,\n",
       " '0x2b591e99afe9f32eaa6214f7b7629768c40eeb39': 90,\n",
       " '0xde1e704dae0b4051e80dabb26ab6ad6c12262da0': 67,\n",
       " '0xfe18be6b3bd88a2d2a7f928d00292e7a9963cfc6': 927,\n",
       " '0x853d955acef822db058eb8505911ed77f175b99e': 186,\n",
       " '0xae7ab96520de3a18e5e111b5eaab095312d7fe84': 50,\n",
       " '0x0f5d2fb29fb7d3cfee444a200298f468908cc942': 85,\n",
       " '0x7d1afa7b718fb893db30a3abc0cfc608aacfebb0': 148,\n",
       " '0x8a854288a5976036a725879164ca3e91d30c6a1b': 41,\n",
       " '0xe5feeac09d36b18b3fa757e5cf3f8da6b8e27f4c': 189,\n",
       " '0xf629cbd94d3791c9250152bd8dfbdf380e2a3b9c': 84,\n",
       " '0x31429d1856ad1377a8a0079410b297e1a9e214c2': 6,\n",
       " '0x8c15ef5b4b21951d50e53e4fbda8298ffad25057': 104,\n",
       " '0x4691937a7508860f876c9c0a2a617e7d9e945d4b': 12,\n",
       " '0x8f8221afbb33998d8584a2b05749ba73c37a938a': 21,\n",
       " '0xbbc2ae13b23d715c30720f079fcd9b4a74093505': 409,\n",
       " '0x1ceb5cb57c4d4e2b2433641b95dd330a33185a44': 84,\n",
       " '0x58b6a8a3302369daec383334672404ee733ab239': 8,\n",
       " '0xc944e90c64b2c07662a292be6244bdf05cda44a7': 44,\n",
       " '0xff20817765cb7f73d4bde2e66e067e58d11095c2': 14,\n",
       " '0x0b498ff89709d3838a063f1dfa463091f9801c2b': 51,\n",
       " '0x8e870d67f660d95d5be530380d0ec0bd388289e1': 48,\n",
       " '0xbbbbca6a901c926f240b89eacb641d8aec7aeafd': 21,\n",
       " '0x1776e1f26f98b1a5df9cd347953a26dd3cb46671': 1,\n",
       " '0x0d438f3b5175bebc262bf23753c1e53d03432bde': 41,\n",
       " '0xf4d2888d29d722226fafa5d9b24f9164c092421e': 20,\n",
       " '0x767fe9edc9e0df98e07454847909b5e959d7ca0e': 13,\n",
       " '0x4d224452801aced8b2f0aebe155379bb5d594381': 29,\n",
       " '0xfca59cd816ab1ead66534d82bc21e7515ce441cf': 64,\n",
       " '0xd084b83c305dafd76ae3e1b4e1f1fe2ecccb3988': 23,\n",
       " '0x2a8e1e676ec238d8a992307b495b45b3feaa5e86': 48,\n",
       " '0x85f17cf997934a597031b2e18a9ab6ebd4b9f6a4': 122,\n",
       " '0x9f9c8ec3534c3ce16f928381372bfbfbfb9f4d24': 3,\n",
       " '0x3432b6a60d23ca0dfca7761b7ab56459d9c964d0': 41,\n",
       " '0xfad45e47083e4607302aa43c65fb3106f1cd7607': 9,\n",
       " '0x4da27a545c0c5b758a6ba100e3a049001de870f5': 16,\n",
       " '0x64aa3364f17a4d01c6f1751fd97c2bd3d7e7f1d5': 14,\n",
       " '0xb9d99c33ea2d86ec5ec6b8a4dd816ebba64404af': 3,\n",
       " '0x27054b13b1b798b345b591a4d22e6562d47ea75a': 2,\n",
       " '0x777172d858dc1599914a1c4c6c9fc48c99a60990': 10,\n",
       " '0xde30da39c46104798bb5aa3fe8b9e0e1f348163f': 11,\n",
       " '0x090185f2135308bad17527004364ebcc2d37e5f6': 12,\n",
       " '0xae78736cd615f374d3085123a210448e74fc6393': 4,\n",
       " '0x37fe0f067fa808ffbdd12891c0858532cfe7361d': 24,\n",
       " '0x8ce9137d39326ad0cd6491fb5cc0cba0e089b6a9': 4,\n",
       " '0xdb25f211ab05b1c97d595516f45794528a807ad8': 61,\n",
       " '0xe41d2489571d322189246dafa5ebde1f4699f498': 30,\n",
       " '0xc5fb36dd2fb59d3b98deff88425a3f425ee469ed': 11,\n",
       " '0x111111111117dc0aa78b770fa6a738034120c302': 151,\n",
       " '0x3d658390460295fb963f54dc0899cfb1c30776df': 2,\n",
       " '0x056fd409e1d7a124bd7017459dfea2f387b6d5cd': 26,\n",
       " '0xb753428af26e81097e7fd17f40c88aaa3e04902c': 17,\n",
       " '0xdd974d5c2e2928dea5f71b9825b8b646686bd200': 41,\n",
       " '0xdbdb4d16eda451d0503b854cf79d55697f90c8df': 10,\n",
       " '0xc7283b66eb1eb5fb86327f08e1b5816b0720212b': 25,\n",
       " '0xb4371da53140417cbb3362055374b10d97e420bb': 24,\n",
       " '0x7b6f71c8b123b38aa8099e0098bec7fbc35b8a13': 83,\n",
       " '0x198d14f2ad9ce69e76ea330b374de4957c3f850a': 4,\n",
       " '0x0ec9f76202a7061eb9b3a7d6b59d36215a7e37da': 1,\n",
       " '0x5b7533812759b45c2b44c19e320ba2cd2681b542': 3,\n",
       " '0xaaaaaa20d9e0e2461697782ef11675f668207961': 2,\n",
       " '0xf3dcbc6d72a4e1892f7917b7c43b74131df8480e': 5,\n",
       " '0x77777feddddffc19ff86db637967013e6c6a116c': 2,\n",
       " '0x0cec1a9154ff802e7934fc916ed7ca50bde6844e': 11,\n",
       " '0x69af81e73a73b40adf4f3d4223cd9b1ece623074': 4,\n",
       " '0x1b40183efb4dd766f11bda7a7c3ad8982e998421': 21,\n",
       " '0x1559fa1b8f28238fd5d76d9f434ad86fd20d1559': 4,\n",
       " '0xa2791bdf2d5055cda4d46ec17f9f429568275047': 47,\n",
       " '0x5a666c7d92e5fa7edcb6390e4efd6d0cdd69cf37': 2,\n",
       " '0xebd9d99a3982d547c5bb4db7e3b1f9f14b67eb83': 3,\n",
       " '0x5a98fcbea516cf06857215779fd812ca3bef1b32': 34,\n",
       " '0x4c2e59d098df7b6cbae0848d66de2f8a4889b9c3': 9,\n",
       " '0xc18360217d8f7ab5e7c516566761ea12ce7f9d72': 13,\n",
       " '0xaf5191b0de278c7286d6c7cc6ab6bb8a73ba2cd6': 3,\n",
       " '0xdb5c3c46e28b53a39c255aa39a411dd64e5fed9c': 3,\n",
       " '0xb63b606ac810a52cca15e44bb630fd42d8d1d83d': 1,\n",
       " '0x4e15361fd6b4bb609fa63c81a2be19d873717870': 13,\n",
       " '0x6399c842dd2be3de30bf99bc7d1bbf6fa3650e70': 2,\n",
       " '0xb4272071ecadd69d933adcd19ca99fe80664fc08': 10,\n",
       " '0x6810e776880c02933d47db1b9fc05908e5386b96': 10,\n",
       " '0x1614f18fc94f47967a3fbe5ffcd46d4e7da3d787': 6,\n",
       " '0x656c00e1bcd96f256f224ad9112ff426ef053733': 2,\n",
       " '0x70e8de73ce538da2beed35d14187f6959a8eca96': 17,\n",
       " '0x1796ae0b0fa4862485106a0de9b654efe301d0b2': 1,\n",
       " '0xc690f7c7fcffa6a82b79fab7508c466fefdfc8c5': 3,\n",
       " '0xf0f9d895aca5c8678f706fb8216fa22957685a13': 2,\n",
       " '0x0f2d719407fdbeff09d87557abb7232601fd9f29': 9,\n",
       " '0x30dcba0405004cf124045793e1933c798af9e66a': 1,\n",
       " '0xe452e6ea2ddeb012e20db73bf5d3863a3ac8d77a': 21,\n",
       " '0x8e6cd950ad6ba651f6dd608dc70e5886b1aa6b24': 35,\n",
       " '0x9e46a38f5daabe8683e10793b06749eef7d733d1': 2,\n",
       " '0xacfa209fb73bf3dd5bbfb1101b9bc999c49062a5': 4,\n",
       " '0x820802fa8a99901f52e39acd21177b0be6ee2974': 7,\n",
       " '0xd417144312dbf50465b1c641d016962017ef6240': 1,\n",
       " '0xba8a621b4a54e61c442f5ec623687e2a942225ef': 3,\n",
       " '0xb3319f5d18bc0d84dd1b4825dcde5d5f7266d407': 8,\n",
       " '0xde5ed76e7c05ec5e4572cfc88d1acea165109e44': 14,\n",
       " '0x5e8422345238f34275888049021821e8e08caa1f': 1,\n",
       " '0xe5caef4af8780e59df925470b050fb23c43ca68c': 1,\n",
       " '0x7a58c0be72be218b41c608b7fe7c5bb630736c71': 2,\n",
       " '0x5ca381bbfb58f0092df149bd3d243b08b9a8386e': 1,\n",
       " '0x6982508145454ce325ddbe47a25d4ec3d2311933': 2,\n",
       " '0x49642110b712c1fd7261bc074105e9e44676c68f': 2,\n",
       " '0x42d6622dece394b54999fbd73d108123806f6a18': 2,\n",
       " '0xa02120696c7b8fe16c09c749e4598819b2b0e915': 1,\n",
       " '0x4c11249814f11b9346808179cf06e71ac328c1b5': 1,\n",
       " '0xba11d00c5f74255f56a5e366f4f77f5a186d7f55': 4,\n",
       " '0x87869a9789291a6cec99f3c3ef2ff71fceb12a8e': 1,\n",
       " '0xdfe66b14d37c77f4e9b180ceb433d1b164f0281d': 4,\n",
       " '0x374cb8c27130e2c9e04f44303f3c8351b9de61c1': 3,\n",
       " '0xf57e7e7c23978c3caec3c3548e3d615c346e79ff': 1,\n",
       " '0xa487bf43cf3b10dffc97a9a744cbb7036965d3b9': 1,\n",
       " '0x16cda4028e9e872a38acb903176719299beaed87': 1,\n",
       " '0x321c2fe4446c7c963dc41dd58879af648838f98d': 1,\n",
       " '0xccc8cb5229b0ac8069c51fd58367fd1e622afd97': 1,\n",
       " '0x72b886d09c117654ab7da13a14d603001de0b777': 2,\n",
       " '0xf16e81dce15b08f326220742020379b855b87df9': 3,\n",
       " '0x84cffa78b2fbbeec8c37391d2b12a04d2030845e': 5,\n",
       " '0x3505f494c3f0fed0b594e01fa41dd3967645ca39': 1,\n",
       " '0x0c572544a4ee47904d54aaa6a970af96b6f00e1b': 1,\n",
       " '0x7c07f7abe10ce8e33dc6c5ad68fe033085256a84': 16,\n",
       " '0x23b608675a2b2fb1890d3abbd85c5775c51691d5': 6,\n",
       " '0xdf574c24545e5ffecb9a659c229253d4111d87e1': 5,\n",
       " '0x1a3496c18d558bd9c6c8f609e1b129f67ab08163': 3,\n",
       " '0x4a220e6096b25eadb88358cb44068a3248254675': 9,\n",
       " '0x4b520c812e8430659fc9f12f6d0c39026c83588d': 1,\n",
       " '0xb62132e35a6c13ee1ee0f84dc5d40bad8d815206': 3,\n",
       " '0x4f3afec4e5a3f2a6a1a411def7d7dfe50ee057bf': 4,\n",
       " '0xed0439eacf4c4965ae4613d77a5c2efe10e5f183': 7,\n",
       " '0xf938424f7210f31df2aee3011291b658f872e91e': 10,\n",
       " '0x92d6c1e31e14520e676a687f0a93788b716beff5': 3,\n",
       " '0x16eccfdbb4ee1a85a33f3a9b21175cd7ae753db4': 1,\n",
       " '0xaaaebe6fe48e54f431b0c390cfaf0b017d09d42d': 5,\n",
       " '0xadd5e881984783dd432f80381fb52f45b53f3e70': 7,\n",
       " '0xc6dddb5bc6e61e0841c54f3e723ae1f3a807260b': 4,\n",
       " '0xdef1ca1fb7fbcdc777520aa7f396b4e015f497ab': 5,\n",
       " '0x4bd70556ae3f8a6ec6c4080a0c327b24325438f3': 1,\n",
       " '0xe80c0cd204d654cebe8dd64a4857cab6be8345a3': 9,\n",
       " '0xeeaa40b28a2d1b0b08f6f97bb1dd4b75316c6107': 3,\n",
       " '0x41d5d79431a913c4ae7d69a668ecdfe5ff9dfb68': 4,\n",
       " '0x7c5a0ce9267ed19b22f8cae653f198e3e8daf098': 2,\n",
       " '0x6149c26cd2f7b5ccdb32029af817123f6e37df5b': 2,\n",
       " '0xad3e3fc59dff318beceaab7d00eb4f68b1ecf195': 1,\n",
       " '0xe20b9e246db5a0d21bf9209e4858bc9a3ff7a034': 3,\n",
       " '0x4f08705fb8f33affc231ed66e626b40e84a71870': 2,\n",
       " '0xbbbbbbb5aa847a2003fbc6b5c16df0bd1e725f61': 4,\n",
       " '0x3af33bef05c2dcb3c7288b77fe1c8d2aeba4d789': 3,\n",
       " '0x340d2bde5eb28c1eed91b2f790723e3b160613b7': 1,\n",
       " '0x111111517e4929d3dcbdfa7cce55d30d4b6bc4d6': 6,\n",
       " '0x8fc8f8269ebca376d046ce292dc7eac40c8d358a': 4,\n",
       " '0x419d0d8bdd9af5e606ae2232ed285aff190e711b': 4,\n",
       " '0x8c543aed163909142695f2d2acd0d55791a9edb9': 2,\n",
       " '0x2e9d63788249371f1dfc918a52f8d799f4a38c94': 2,\n",
       " '0x7d5121505149065b562c789a0145ed750e6e8cdd': 2,\n",
       " '0x8287c7b963b405b7b8d467db9d79eec40625b13a': 2,\n",
       " '0x8207c1ffc5b6804f6024322ccf34f29c3541ae26': 2,\n",
       " '0x31f69de127c8a0ff10819c0955490a4ae46fcc2a': 3,\n",
       " '0x178c820f862b14f316509ec36b13123da19a6054': 16,\n",
       " '0x3a880652f47bfaa771908c07dd8673a787daed3a': 1,\n",
       " '0x16631e53c20fd2670027c6d53efe2642929b285c': 2,\n",
       " '0xd13c7342e1ef687c5ad21b27c2b65d772cab5c8c': 1,\n",
       " '0x949d48eca67b17269629c7194f4b727d4ef9e5d6': 4,\n",
       " '0x226bb599a12c826476e3a771454697ea52e9e220': 1,\n",
       " '0x808507121b80c02388fad14726482e061b8da827': 3,\n",
       " '0xee586e7eaad39207f0549bc65f19e336942c992f': 3,\n",
       " '0x630d98424efe0ea27fb1b3ab7741907dffeaad78': 1,\n",
       " '0xdf801468a808a32656d2ed2d2d80b72a129739f4': 2,\n",
       " '0xe60779cc1b2c1d0580611c526a8df0e3f870ec48': 1,\n",
       " '0x6123b0049f904d730db3c36a31167d9d4121fa6b': 4,\n",
       " '0x431ad2ff6a9c365805ebad47ee021148d6f7dbe0': 2,\n",
       " '0x55af5865807b196bd0197e0902746f31fbccfa58': 2,\n",
       " '0xc86817249634ac209bc73fca1712bbd75e37407d': 4,\n",
       " '0x73968b9a57c6e53d41345fd57a6e6ae27d6cdb2f': 2,\n",
       " '0x3597bfd533a99c9aa083587b074434e61eb0a258': 1,\n",
       " '0x221657776846890989a759ba2973e427dff5c9bb': 1,\n",
       " '0xf411903cbc70a74d22900a5de66a2dda66507255': 1,\n",
       " '0x6dea81c8171d0ba574754ef6f8b412f2ed88c54d': 6,\n",
       " '0x12b19d3e2ccc14da04fae33e63652ce469b3f2fd': 1,\n",
       " '0x038a68ff68c393373ec894015816e33ad41bd564': 2,\n",
       " '0x17ef75aa22dd5f6c2763b8304ab24f40ee54d48a': 2,\n",
       " '0x188e817b02e635d482ae4d81e25dda98a97c4a42': 1,\n",
       " '0x0000000000095413afc295d19edeb1ad7b71c952': 5,\n",
       " '0x81f8f0bb1cb2a06649e51913a151f0e7ef6fa321': 2,\n",
       " '0xb6ed7644c69416d67b522e20bc294a9a9b405b31': 3,\n",
       " '0xba386a4ca26b85fd057ab1ef86e3dc7bdeb5ce70': 2,\n",
       " '0x3affcca64c2a6f4e3b6bd9c64cd2c969efd1ecbe': 2,\n",
       " '0x43044f861ec040db59a7e324c40507addb673142': 2,\n",
       " '0x50de6856358cc35f3a9a57eaaa34bd4cb707d2cd': 2,\n",
       " '0xa35923162c49cf95e6bf26623385eb431ad920d3': 2,\n",
       " '0x4b5f49487ea7b3609b1ad05459be420548789f1f': 1,\n",
       " '0x93ed3fbe21207ec2e8f2d3c3de6e058cb73bc04d': 1,\n",
       " '0xa117000000f279d81a1d3cc75430faa017fa5a2e': 2,\n",
       " '0x701c244b988a513c945973defa05de933b23fe1d': 1,\n",
       " '0x5283d291dbcf85356a21ba090e6db59121208b44': 1,\n",
       " '0x6fc13eace26590b80cccab1ba5d51890577d83b2': 2,\n",
       " '0x85eee30c52b0b379b046fb0f85f4f3dc3009afec': 1,\n",
       " '0xfb130d93e49dca13264344966a611dc79a456bc5': 2,\n",
       " '0x7865af71cf0b288b4e7f654f4f7851eb46a2b7f8': 1,\n",
       " '0x9e32b13ce7f2e80a01932b42553652e053d6ed8e': 1,\n",
       " '0x120a3879da835a5af037bb2d1456bebd6b54d4ba': 1,\n",
       " '0x6bb61215298f296c55b19ad842d3df69021da2ef': 1,\n",
       " '0x8a9c67fee641579deba04928c4bc45f66e26343a': 2,\n",
       " '0x3506424f91fd33084466f402d5d97f05f8e3b4af': 1,\n",
       " '0xac3211a5025414af2866ff09c23fc18bc97e79b1': 1,\n",
       " '0xc770eefad204b5180df6a14ee197d99d808ee52d': 2,\n",
       " '0xe3818504c1b32bf1557b16c238b2e01fd3149c17': 1,\n",
       " '0xc5bddf9843308380375a611c18b50fb9341f502a': 1,\n",
       " '0x0f51bb10119727a7e5ea3538074fb341f56b09ad': 1,\n",
       " '0xddb3422497e61e13543bea06989c0789117555c5': 1,\n",
       " '0xcafe001067cdef266afb7eb5a286dcfd277f3de5': 3,\n",
       " '0x818fc6c2ec5986bc6e2cbf00939d90556ab12ce5': 1,\n",
       " '0x744d70fdbe2ba4cf95131626614a1763df805b9e': 2,\n",
       " '0xd9016a907dc0ecfa3ca425ab20b6b785b42f2373': 1,\n",
       " '0x243cacb4d5ff6814ad668c3e225246efa886ad5a': 1,\n",
       " '0x77fba179c79de5b7653f68b5039af940ada60ce0': 1,\n",
       " '0x4a615bb7166210cce20e6642a6f8fb5d4d044496': 1,\n",
       " '0x26c8afbbfe1ebaca03c2bb082e69d0476bffe099': 1,\n",
       " '0x6f80310ca7f2c654691d1383149fa1a57d8ab1f8': 1,\n",
       " '0xfb7b4564402e5500db5bb6d63ae671302777c75a': 1,\n",
       " '0xd33526068d116ce69f19a9ee46f0bd304f21a51f': 1,\n",
       " '0xaaaf91d9b90df800df4f55c205fd6989c977e73a': 1,\n",
       " '0xee573a945b01b788b9287ce062a0cfc15be9fd86': 1}"
      ]
     },
     "execution_count": 23,
     "metadata": {},
     "output_type": "execute_result"
    }
   ],
   "source": [
    "attacked_token = {}\n",
    "for _, pom in tqdm(merged_pom_df.iterrows()):\n",
    "    pom_logs = parse_record(pom)\n",
    "    pom_assets = set([log.asset for log in pom_logs])\n",
    "    for token in pom_assets:\n",
    "        if token not in attacked_token:\n",
    "            attacked_token[token] = 1\n",
    "        else:\n",
    "            attacked_token[token] += 1\n",
    "attacked_token\n"
   ]
  },
  {
   "cell_type": "code",
   "execution_count": 24,
   "id": "92516c60-0bca-43f8-9e1d-4e86e4ad84bd",
   "metadata": {},
   "outputs": [
    {
     "data": {
      "text/plain": [
       "[('0xc02aaa39b223fe8d0a0e5c4f27ead9083c756cc2', 11997),\n",
       " ('0xa0b86991c6218b36c1d19d4a2e9eb0ce3606eb48', 6023),\n",
       " ('0x2260fac5e5542a773aa44fbcfedf7c193bc2c599', 4115),\n",
       " ('0xdac17f958d2ee523a2206206994597c13d831ec7', 3350),\n",
       " ('0x6b175474e89094c44da98b954eedeac495271d0f', 3315)]"
      ]
     },
     "execution_count": 24,
     "metadata": {},
     "output_type": "execute_result"
    }
   ],
   "source": [
    "sorted(attacked_token.items(), key=lambda x:x[1], reverse=True)[:5]"
   ]
  },
  {
   "cell_type": "code",
   "execution_count": 25,
   "id": "8f9676b9-7221-4154-8037-8a389e6371b1",
   "metadata": {},
   "outputs": [
    {
     "ename": "NameError",
     "evalue": "name 'sorted_attacked_token' is not defined",
     "output_type": "error",
     "traceback": [
      "\u001b[1;31m---------------------------------------------------------------------------\u001b[0m",
      "\u001b[1;31mNameError\u001b[0m                                 Traceback (most recent call last)",
      "Cell \u001b[1;32mIn[25], line 1\u001b[0m\n\u001b[1;32m----> 1\u001b[0m \u001b[38;5;28mlen\u001b[39m(\u001b[43msorted_attacked_token\u001b[49m)\n",
      "\u001b[1;31mNameError\u001b[0m: name 'sorted_attacked_token' is not defined"
     ]
    }
   ],
   "source": [
    "len(sorted_attacked_token)"
   ]
  },
  {
   "cell_type": "code",
   "execution_count": null,
   "id": "b4c60831-b2d2-499f-a928-3906d244cde4",
   "metadata": {},
   "outputs": [],
   "source": [
    "import matplotlib.pyplot as plt\n",
    "ax = pd.DataFrame.from_dict(sorted_attacked_token).plot.bar(rot=0, logy=True, legend=False, xlabel=None, xticks=[])\n",
    "ax.set_xlabel('Assets')\n",
    "ax.set_ylabel('Number of POMAs')\n",
    "plt.tight_layout()\n",
    "plt.savefig('../snp/asset_dist.pdf', format='pdf')"
   ]
  },
  {
   "cell_type": "code",
   "execution_count": null,
   "id": "7bfd6888-b8ed-4fd1-8b90-b62ab0bbf04b",
   "metadata": {},
   "outputs": [],
   "source": [
    "sorted_attacked_token.plot.bar(rot=0)"
   ]
  },
  {
   "cell_type": "code",
   "execution_count": null,
   "id": "205ef658-0702-4c75-9a21-ed556dd83477",
   "metadata": {},
   "outputs": [],
   "source": [
    "fn = \"../tokens/scrape_erc20/erc20.jsonlines\"\n",
    "token_df = pd.read_json(fn, lines=True)\n",
    "token_df.sample()"
   ]
  },
  {
   "cell_type": "code",
   "execution_count": null,
   "id": "2e9393a7-b92c-48a1-a27e-464df1816a70",
   "metadata": {},
   "outputs": [],
   "source": [
    "import itertools\n",
    "\n",
    "ZERO_ADDRESS = \"0x0000000000000000000000000000000000000000\"\n",
    "ZERO_AMOUNT = \"0\"\n",
    "def is_transfer_normal(log):\n",
    "    return (log.sender != log.receiver \n",
    "        and log.sender != ZERO_ADDRESS\n",
    "        and log.receiver != ZERO_ADDRESS\n",
    "        and log.amount != ZERO_AMOUNT)\n",
    "\n",
    "def is_transfer_minting(log):\n",
    "    return (log.sender == ZERO_ADDRESS and log.amount != ZERO_AMOUNT)\n",
    "\n",
    "def is_transfer_burning(log):\n",
    "    return (log.receiver == ZERO_ADDRESS and log.amount != ZERO_AMOUNT)\n",
    "\n",
    "def has_transfer_normal(logs):\n",
    "    return [log for log in logs if is_transfer_normal(log)]\n",
    "\n",
    "def has_transfer_minting(logs):\n",
    "    return [log for log in logs if is_transfer_minting(log)]\n",
    "\n",
    "def has_transfer_burning(logs):\n",
    "    return [log for log in logs if is_transfer_burning(log)]\n",
    "\n",
    "def has_liquidity_mining(logs):\n",
    "    ts = has_transfer_normal(logs)\n",
    "    tms = has_transfer_minting(logs)\n",
    "    if not ts or not tms:\n",
    "        return None\n",
    "    for t, tm in pairwise(ts, tms):\n",
    "        if t and tm and t.asset != tm.asset:\n",
    "            trade_dict = {\"operator\": t.sender, \n",
    "                    \"recipient\": tm.receiver, \n",
    "                    \"pool\": t.receiver, \n",
    "                    \"asset_in\": t.asset,\n",
    "                    \"asset_out\": tm.asset,\n",
    "                    \"amount_in\": t.amount,\n",
    "                    \"amount_out\": tm.amount,\n",
    "                    \"log_idx\": [t.idx, tm.idx]}\n",
    "            yield Trade(**trade_dict)\n",
    "        return None\n",
    "\n",
    "def has_liquidity_cancel(logs):\n",
    "    ts = has_transfer_normal(logs)\n",
    "    tbs = has_transfer_burning(logs)\n",
    "    if not ts or not tbs:\n",
    "        return None\n",
    "    for t, tb in pairwise(ts, tbs):\n",
    "        if t and tb and t.asset != tb.asset:\n",
    "            trade_dict =  {\"operator\": tb.sender, \n",
    "                    \"recipient\": t.receiver, \n",
    "                    \"pool\": t.sender, \n",
    "                    \"asset_in\": tb.asset,\n",
    "                    \"asset_out\": t.asset,\n",
    "                    \"amount_in\": tb.amount,\n",
    "                    \"amount_out\": t.amount,\n",
    "                    \"log_idx\": [t.idx, tb.idx]}\n",
    "            yield Trade(**trade_dict)\n",
    "    return None\n",
    "\n",
    "def pairwise(iterable_1, iterable_2=None):\n",
    "    if iterable_2 is None:\n",
    "        return itertools.product(iterable_1, iterable_1)\n",
    "    return itertools.product(iterable_1, iterable_2)\n",
    "\n",
    "def has_trade(logs):\n",
    "    t = has_transfer_normal(logs)\n",
    "    if not t:\n",
    "        return None\n",
    "    for t1, t2 in itertools.pairwise(t):\n",
    "        if t1 and t2 and t1.asset != t2.asset and t1.receiver == t2.sender:\n",
    "            trade_dict = {\"operator\": t1.sender, \n",
    "                    \"recipient\": t2.receiver, \n",
    "                    \"pool\": t1.receiver, \n",
    "                    \"asset_in\": t1.asset,\n",
    "                    \"asset_out\": t2.asset,\n",
    "                    \"amount_in\": t1.amount,\n",
    "                    \"amount_out\": t2.amount,\n",
    "                    \"log_idx\": [t1.idx, t2.idx]}\n",
    "            yield Trade(**trade_dict)\n",
    "    return None\n",
    "\n",
    "def has_trade_alt(logs):\n",
    "    lms = has_liquidity_mining(logs)\n",
    "    lcs = has_liquidity_cancel(logs)\n",
    "    if not lms or lcs:\n",
    "        return None\n",
    "    for lm, lc in itertools.pairwise(lms, lcs):\n",
    "        if (lm and lc \n",
    "            and lm.recipient == lc.operator \n",
    "            and lm.asset_in != lc.asset_out \n",
    "            and lm.asset_out != lc.asset_in):\n",
    "            trade_dict =  {\"operator\": lm.operator, \n",
    "                    \"recipient\": lc.recipient, \n",
    "                    \"pool\": lm.recipient, \n",
    "                    \"asset_in\": lm.asset_in,\n",
    "                    \"asset_out\": lc.asset_out,\n",
    "                    \"amount_in\": lm.amount_in,\n",
    "                    \"amount_out\": lc.amount_out,\n",
    "                    \"log_idx\": [lm.idx, lc.idx]}\n",
    "            yield Trade(**trade_dict)\n",
    "    return None"
   ]
  },
  {
   "cell_type": "code",
   "execution_count": null,
   "id": "a233ec25-f63f-4b4b-9b00-bfcc03aca756",
   "metadata": {},
   "outputs": [],
   "source": [
    "def parse_record_y(record):\n",
    "    assets = record.token_address_y\n",
    "    senders = record.from_address_y\n",
    "    receivers = record.to_address_y\n",
    "    amounts = record.value_y\n",
    "    logs = []\n",
    "    for i in range(len(assets)):      \n",
    "        log_dict = {\n",
    "            \"idx\": i,\n",
    "            \"asset\": assets[i],\n",
    "            \"sender\": senders[i],\n",
    "            \"receiver\": receivers[i],\n",
    "            \"amount\": amounts[i],\n",
    "        }\n",
    "        logs.append(Log(**log_dict))\n",
    "    return logs"
   ]
  },
  {
   "cell_type": "code",
   "execution_count": null,
   "id": "2a2e9adb-a759-4abd-a61a-f3dedac7d56b",
   "metadata": {},
   "outputs": [],
   "source": [
    "k = token_df.iloc[482][\"address\"]\n",
    "token_df[token_df[\"address\"]==k][\"price_in_usd\"].values[0]"
   ]
  },
  {
   "cell_type": "code",
   "execution_count": null,
   "id": "a1173a5f-a4fe-43d2-92c4-eff1652adf76",
   "metadata": {},
   "outputs": [],
   "source": [
    "token_df[token_df[\"address\"]==k][\"decimals\"].values[0]"
   ]
  },
  {
   "cell_type": "code",
   "execution_count": null,
   "id": "6ef40cd1-88f6-4b8d-9b99-8ef2a8edf0ed",
   "metadata": {},
   "outputs": [],
   "source": [
    "def calculate_profit(profit):\n",
    "    total = 0\n",
    "    for k, v in profit.items():\n",
    "        value_in_usd = token_df[token_df[\"address\"]==k][\"price_in_usd\"].values[0] if not token_df[token_df[\"address\"]==k].empty else 0\n",
    "        decimals = token_df[token_df[\"address\"]==k][\"decimals\"].values[0]\n",
    "        total += v * value_in_usd / 10**decimals\n",
    "    return total\n",
    "\n",
    "def profit_arbitrage(trades) -> bool:\n",
    "    profit = {} # token => revenue\n",
    "    for t in trades:\n",
    "        if t.asset_in not in profit:\n",
    "            profit[t.asset_in] = - int(t.amount_in)\n",
    "        else:\n",
    "            profit[t.asset_in] -= int(t.amount_in)\n",
    "        if t.asset_out not in profit:\n",
    "            profit[t.asset_out] = int(t.amount_out)\n",
    "        else:\n",
    "            profit[t.asset_out] += int(t.amount_out)\n",
    "    return calculate_profit(profit)"
   ]
  },
  {
   "cell_type": "code",
   "execution_count": null,
   "id": "9914053b-3ac0-4ff2-bc82-f1eabed91548",
   "metadata": {},
   "outputs": [],
   "source": [
    "profit_by_address = []\n",
    "for _, poma in tqdm(result.iterrows()):\n",
    "    logs = parse_record_y(poma)\n",
    "    trades = list(has_trade(logs))\n",
    "    profit_by_address.append((poma[\"operator_x\"], poma[\"operator_y\"], profit_arbitrage(trades)))"
   ]
  },
  {
   "cell_type": "code",
   "execution_count": null,
   "id": "8bd0715a-3214-491f-ba79-d9cfa59eac06",
   "metadata": {},
   "outputs": [],
   "source": [
    "profit_df = pd.DataFrame([x[2] for x in profit_by_address], columns=[\"profit_in_usd\"])"
   ]
  },
  {
   "cell_type": "code",
   "execution_count": null,
   "id": "c982fcf7-13c3-4025-8a6e-c6a8cad55f3e",
   "metadata": {},
   "outputs": [],
   "source": [
    "result_profit_df = pd.concat([result, profit_df], axis=1)"
   ]
  },
  {
   "cell_type": "code",
   "execution_count": null,
   "id": "7f8311dc-6905-41f9-9a37-006a6e92b0c8",
   "metadata": {},
   "outputs": [],
   "source": [
    "result_profit_df[result_profit_df[\"operator_x\"] == result_profit_df[\"operator_y\"]]"
   ]
  },
  {
   "cell_type": "code",
   "execution_count": null,
   "id": "5333e9fb-eabf-4cf0-b15e-2a4e8342057e",
   "metadata": {},
   "outputs": [],
   "source": [
    "max_poma = result_profit_df.sort_values(by=\"profit_in_usd\").head()"
   ]
  },
  {
   "cell_type": "code",
   "execution_count": null,
   "id": "c58aa1ed-0579-46b0-bad9-6f021f5d027f",
   "metadata": {},
   "outputs": [],
   "source": [
    "max_poma"
   ]
  },
  {
   "cell_type": "code",
   "execution_count": null,
   "id": "f1db2533-2811-46fa-aa7f-f0f86daf1f62",
   "metadata": {
    "scrolled": true
   },
   "outputs": [],
   "source": [
    "for _, poma in max_poma.iterrows():\n",
    "    logs = parse_record_y(poma)\n",
    "    trades = list(has_trade(logs))\n",
    "    print(trades)"
   ]
  },
  {
   "cell_type": "code",
   "execution_count": null,
   "id": "8cf20845-cddf-4cd4-b292-75a739055d7e",
   "metadata": {},
   "outputs": [],
   "source": [
    "token_df[token_df[\"address\"] == \"0xbbc2ae13b23d715c30720f079fcd9b4a74093505\"]"
   ]
  },
  {
   "cell_type": "code",
   "execution_count": null,
   "id": "e604203e-4c62-4278-928e-3ff6bfe81c1d",
   "metadata": {
    "scrolled": true
   },
   "outputs": [],
   "source": [
    "max_poma.values"
   ]
  },
  {
   "cell_type": "code",
   "execution_count": null,
   "id": "e09fde59-07df-42a7-832b-9ce98258b3a6",
   "metadata": {},
   "outputs": [],
   "source": [
    "profit_by_address_df = pd.DataFrame(profit_by_address, columns=[\"address_x\", \"address_y\", \"profit_in_usd\"])"
   ]
  },
  {
   "cell_type": "code",
   "execution_count": null,
   "id": "e4b1a8b8-57fc-4627-91fb-65bd29949e63",
   "metadata": {},
   "outputs": [],
   "source": [
    "profit_by_address_df[\"profit_in_usd\"].sum()"
   ]
  },
  {
   "cell_type": "code",
   "execution_count": null,
   "id": "b6682501-2a33-4120-a3f2-f833de99f779",
   "metadata": {},
   "outputs": [],
   "source": [
    "sorted_profit_by_address_df = profit_by_address_df.groupby(\"address_x\").sum().sort_values(by=['profit_in_usd'], ascending=False)"
   ]
  },
  {
   "cell_type": "code",
   "execution_count": null,
   "id": "b9c19ed7-59bb-4ac0-baa5-67f0ae780c83",
   "metadata": {},
   "outputs": [],
   "source": [
    "ax = pd.DataFrame.from_dict(sorted_profit_by_address_df).plot.bar(rot=0, logy=True, legend=False, xlabel=None, xticks=[])\n",
    "ax.set_xlabel('Operators')\n",
    "ax.set_ylabel('USD')\n",
    "plt.tight_layout()\n",
    "plt.savefig('../snp/profit_dist.pdf', format='pdf')"
   ]
  },
  {
   "cell_type": "code",
   "execution_count": null,
   "id": "11c686fd-af35-451d-b911-b81993d3ff0e",
   "metadata": {},
   "outputs": [],
   "source": [
    "profit_by_address_df.groupby(\"address_y\").sum().sort_values(by=['profit_in_usd'], ascending=False)"
   ]
  },
  {
   "cell_type": "code",
   "execution_count": null,
   "id": "e5c3992b-f164-4b85-a293-e3bfc32b79e8",
   "metadata": {},
   "outputs": [],
   "source": [
    "profit_by_address_df.groupby(\"address_y\").sum().sort_values(by=['profit_in_usd'], ascending=False).head(1)[]"
   ]
  },
  {
   "cell_type": "code",
   "execution_count": null,
   "id": "28068263-b21b-4ba9-8e62-39d6c18171d2",
   "metadata": {},
   "outputs": [],
   "source": [
    "pomer_arbitrager_profit = profit_by_address_df.groupby([\"address_x\", \"address_y\"]).sum().sort_values(by=['profit_in_usd'], ascending=False)"
   ]
  },
  {
   "cell_type": "code",
   "execution_count": null,
   "id": "1c6cbf7a-8d53-42f3-a78f-ddef0dc2bcc9",
   "metadata": {},
   "outputs": [],
   "source": [
    "pomer_arbitrager_profit[pomer_arbitrager_profit[\"address_x\"] != pomer_arbitrager_profit[\"address_y\"]]"
   ]
  },
  {
   "cell_type": "code",
   "execution_count": null,
   "id": "6496827c-296f-4dd0-8bc6-4f9c563d4d2c",
   "metadata": {},
   "outputs": [],
   "source": []
  }
 ],
 "metadata": {
  "kernelspec": {
   "display_name": "Python 3 (ipykernel)",
   "language": "python",
   "name": "python3"
  },
  "language_info": {
   "codemirror_mode": {
    "name": "ipython",
    "version": 3
   },
   "file_extension": ".py",
   "mimetype": "text/x-python",
   "name": "python",
   "nbconvert_exporter": "python",
   "pygments_lexer": "ipython3",
   "version": "3.10.0"
  }
 },
 "nbformat": 4,
 "nbformat_minor": 5
}
