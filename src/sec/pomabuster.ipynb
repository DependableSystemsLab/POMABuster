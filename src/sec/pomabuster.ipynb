{
 "cells": [
  {
   "cell_type": "code",
   "execution_count": 1,
   "id": "ea10f61a-e1e0-475a-8b0c-9c6a8fdc70e9",
   "metadata": {},
   "outputs": [],
   "source": [
    "import pandas as pd"
   ]
  },
  {
   "cell_type": "code",
   "execution_count": 4,
   "id": "a6b4968f-ffce-433a-8730-ac229927ec45",
   "metadata": {},
   "outputs": [
    {
     "data": {
      "text/html": [
       "<div>\n",
       "<style scoped>\n",
       "    .dataframe tbody tr th:only-of-type {\n",
       "        vertical-align: middle;\n",
       "    }\n",
       "\n",
       "    .dataframe tbody tr th {\n",
       "        vertical-align: top;\n",
       "    }\n",
       "\n",
       "    .dataframe thead th {\n",
       "        text-align: right;\n",
       "    }\n",
       "</style>\n",
       "<table border=\"1\" class=\"dataframe\">\n",
       "  <thead>\n",
       "    <tr style=\"text-align: right;\">\n",
       "      <th></th>\n",
       "      <th>index</th>\n",
       "      <th>name</th>\n",
       "      <th>address</th>\n",
       "      <th>price_in_usd</th>\n",
       "      <th>volume</th>\n",
       "      <th>market_cap_circulating</th>\n",
       "      <th>market_cap_onchain</th>\n",
       "      <th>holders</th>\n",
       "      <th>market_cap_fully_diluted</th>\n",
       "      <th>total_supply</th>\n",
       "      <th>decimals</th>\n",
       "      <th>official_website</th>\n",
       "    </tr>\n",
       "  </thead>\n",
       "  <tbody>\n",
       "    <tr>\n",
       "      <th>834</th>\n",
       "      <td>429</td>\n",
       "      <td>UniBright (UBT)</td>\n",
       "      <td>0x8400d94a5cb0fa0d041a3788e395285d61c9ee5e</td>\n",
       "      <td>0.0717</td>\n",
       "      <td>40497</td>\n",
       "      <td>10801015</td>\n",
       "      <td>10758900.0</td>\n",
       "      <td>22845</td>\n",
       "      <td>10713900.0</td>\n",
       "      <td>150000000</td>\n",
       "      <td>8</td>\n",
       "      <td>unibright.io</td>\n",
       "    </tr>\n",
       "  </tbody>\n",
       "</table>\n",
       "</div>"
      ],
      "text/plain": [
       "     index             name                                     address  \\\n",
       "834    429  UniBright (UBT)  0x8400d94a5cb0fa0d041a3788e395285d61c9ee5e   \n",
       "\n",
       "     price_in_usd  volume  market_cap_circulating  market_cap_onchain  \\\n",
       "834        0.0717   40497                10801015          10758900.0   \n",
       "\n",
       "     holders  market_cap_fully_diluted  total_supply  decimals  \\\n",
       "834    22845                10713900.0     150000000         8   \n",
       "\n",
       "    official_website  \n",
       "834     unibright.io  "
      ]
     },
     "execution_count": 4,
     "metadata": {},
     "output_type": "execute_result"
    }
   ],
   "source": [
    "fn = \"../tokens/scrape_erc20/erc20.jsonlines\"\n",
    "token_df = pd.read_json(fn, lines=True)\n",
    "token_df.sample()"
   ]
  },
  {
   "cell_type": "code",
   "execution_count": 5,
   "id": "9c1739af-9318-4cba-b7f0-a91e6516da07",
   "metadata": {},
   "outputs": [],
   "source": [
    "token_supply = {}\n",
    "for _, row in token_df.iterrows():\n",
    "    token_supply[row[\"address\"]] = int(row[\"total_supply\"])\n",
    "    \n",
    "token_decimal = {}\n",
    "for _, row in token_df.iterrows():\n",
    "    token_decimal[row[\"address\"]] = int(row[\"decimals\"])"
   ]
  },
  {
   "cell_type": "code",
   "execution_count": 48,
   "id": "1bbbf045-509e-49d6-a60a-7a87fe4193a2",
   "metadata": {},
   "outputs": [
    {
     "data": {
      "text/html": [
       "<div>\n",
       "<style scoped>\n",
       "    .dataframe tbody tr th:only-of-type {\n",
       "        vertical-align: middle;\n",
       "    }\n",
       "\n",
       "    .dataframe tbody tr th {\n",
       "        vertical-align: top;\n",
       "    }\n",
       "\n",
       "    .dataframe thead th {\n",
       "        text-align: right;\n",
       "    }\n",
       "</style>\n",
       "<table border=\"1\" class=\"dataframe\">\n",
       "  <thead>\n",
       "    <tr style=\"text-align: right;\">\n",
       "      <th></th>\n",
       "      <th>transaction_hash</th>\n",
       "      <th>token_address</th>\n",
       "      <th>from_address</th>\n",
       "      <th>to_address</th>\n",
       "      <th>value</th>\n",
       "      <th>operator</th>\n",
       "      <th>recipient</th>\n",
       "      <th>is_trade</th>\n",
       "    </tr>\n",
       "  </thead>\n",
       "  <tbody>\n",
       "    <tr>\n",
       "      <th>23472</th>\n",
       "      <td>0xfb85101e676b32727747973578a39292b068fd419f5f...</td>\n",
       "      <td>[0xa0b86991c6218b36c1d19d4a2e9eb0ce3606eb48, 0...</td>\n",
       "      <td>[0xea5db10aacf3178aec750d1df3fc97ad8be553ef, 0...</td>\n",
       "      <td>[0x74de5d4fcbf63e00296fd95d33236b9794016631, 0...</td>\n",
       "      <td>[7000000000, 7000000000, 2288815836654671872]</td>\n",
       "      <td>0xea5db10aacf3178aec750d1df3fc97ad8be553ef</td>\n",
       "      <td>0xdef1c0ded9bec7f1a1670819833240f027b25eff</td>\n",
       "      <td>True</td>\n",
       "    </tr>\n",
       "  </tbody>\n",
       "</table>\n",
       "</div>"
      ],
      "text/plain": [
       "                                        transaction_hash  \\\n",
       "23472  0xfb85101e676b32727747973578a39292b068fd419f5f...   \n",
       "\n",
       "                                           token_address  \\\n",
       "23472  [0xa0b86991c6218b36c1d19d4a2e9eb0ce3606eb48, 0...   \n",
       "\n",
       "                                            from_address  \\\n",
       "23472  [0xea5db10aacf3178aec750d1df3fc97ad8be553ef, 0...   \n",
       "\n",
       "                                              to_address  \\\n",
       "23472  [0x74de5d4fcbf63e00296fd95d33236b9794016631, 0...   \n",
       "\n",
       "                                               value  \\\n",
       "23472  [7000000000, 7000000000, 2288815836654671872]   \n",
       "\n",
       "                                         operator  \\\n",
       "23472  0xea5db10aacf3178aec750d1df3fc97ad8be553ef   \n",
       "\n",
       "                                        recipient  is_trade  \n",
       "23472  0xdef1c0ded9bec7f1a1670819833240f027b25eff      True  "
      ]
     },
     "execution_count": 48,
     "metadata": {},
     "output_type": "execute_result"
    }
   ],
   "source": [
    "fn = \"X:\\pomabuster\\swap\\swap-000000000000\"\n",
    "df = pd.read_json(fn, lines=True)\n",
    "df.sample(1)"
   ]
  },
  {
   "cell_type": "code",
   "execution_count": 7,
   "id": "1d4cabd0-790d-4bab-a411-1ffa1759cae7",
   "metadata": {},
   "outputs": [
    {
     "data": {
      "text/html": [
       "<div>\n",
       "<style scoped>\n",
       "    .dataframe tbody tr th:only-of-type {\n",
       "        vertical-align: middle;\n",
       "    }\n",
       "\n",
       "    .dataframe tbody tr th {\n",
       "        vertical-align: top;\n",
       "    }\n",
       "\n",
       "    .dataframe thead th {\n",
       "        text-align: right;\n",
       "    }\n",
       "</style>\n",
       "<table border=\"1\" class=\"dataframe\">\n",
       "  <thead>\n",
       "    <tr style=\"text-align: right;\">\n",
       "      <th></th>\n",
       "      <th>0</th>\n",
       "    </tr>\n",
       "  </thead>\n",
       "  <tbody>\n",
       "    <tr>\n",
       "      <th>418</th>\n",
       "      <td>0x5f6f124b8dbb9ddd59ee6206febbd4aaa9ceab705ed8...</td>\n",
       "    </tr>\n",
       "  </tbody>\n",
       "</table>\n",
       "</div>"
      ],
      "text/plain": [
       "                                                     0\n",
       "418  0x5f6f124b8dbb9ddd59ee6206febbd4aaa9ceab705ed8..."
      ]
     },
     "execution_count": 7,
     "metadata": {},
     "output_type": "execute_result"
    }
   ],
   "source": [
    "filepath = \"drf_000\"\n",
    "poma = pd.read_csv(filepath)\n",
    "poma.sample()"
   ]
  },
  {
   "cell_type": "code",
   "execution_count": 8,
   "id": "26d5bba1-b073-4bb0-a1e6-a71d6c4d8475",
   "metadata": {},
   "outputs": [],
   "source": [
    "from dataclasses import dataclass\n",
    "\n",
    "@dataclass\n",
    "class Log:\n",
    "    sender: str\n",
    "    receiver: str\n",
    "    amount: str\n",
    "    asset: str\n",
    "    idx: int\n",
    "    \n",
    "@dataclass\n",
    "class Trade:\n",
    "    operator: str\n",
    "    recipient: str\n",
    "    pool: str\n",
    "    asset_in: str\n",
    "    asset_out: str\n",
    "    amount_in: str\n",
    "    amount_out: str\n",
    "    log_idx: list"
   ]
  },
  {
   "cell_type": "code",
   "execution_count": 9,
   "id": "ee8c4f35-763f-494e-befd-8828580cb0bb",
   "metadata": {},
   "outputs": [],
   "source": [
    "import itertools\n",
    "\n",
    "ZERO_ADDRESS = \"0x0000000000000000000000000000000000000000\"\n",
    "ZERO_AMOUNT = \"0\"\n",
    "def is_transfer_normal(log):\n",
    "    return (log.sender != log.receiver \n",
    "        and log.sender != ZERO_ADDRESS\n",
    "        and log.receiver != ZERO_ADDRESS\n",
    "        and log.amount != ZERO_AMOUNT)\n",
    "\n",
    "def is_transfer_minting(log):\n",
    "    return (log.sender == ZERO_ADDRESS and log.amount != ZERO_AMOUNT)\n",
    "\n",
    "def is_transfer_burning(log):\n",
    "    return (log.receiver == ZERO_ADDRESS and log.amount != ZERO_AMOUNT)\n",
    "\n",
    "def has_transfer_normal(logs):\n",
    "    return [log for log in logs if is_transfer_normal(log)]\n",
    "\n",
    "def has_transfer_minting(logs):\n",
    "    return [log for log in logs if is_transfer_minting(log)]\n",
    "\n",
    "def has_transfer_burning(logs):\n",
    "    return [log for log in logs if is_transfer_burning(log)]\n",
    "\n",
    "def has_liquidity_mining(logs):\n",
    "    ts = has_transfer_normal(logs)\n",
    "    tms = has_transfer_minting(logs)\n",
    "    if not ts or not tms:\n",
    "        return None\n",
    "    for t, tm in pairwise(ts, tms):\n",
    "        if t and tm and t.asset != tm.asset:\n",
    "            trade_dict = {\"operator\": t.sender, \n",
    "                    \"recipient\": tm.receiver, \n",
    "                    \"pool\": t.receiver, \n",
    "                    \"asset_in\": t.asset,\n",
    "                    \"asset_out\": tm.asset,\n",
    "                    \"amount_in\": t.amount,\n",
    "                    \"amount_out\": tm.amount,\n",
    "                    \"log_idx\": [t.idx, tm.idx]}\n",
    "            yield Trade(**trade_dict)\n",
    "        return None\n",
    "\n",
    "def has_liquidity_cancel(logs):\n",
    "    ts = has_transfer_normal(logs)\n",
    "    tbs = has_transfer_burning(logs)\n",
    "    if not ts or not tbs:\n",
    "        return None\n",
    "    for t, tb in pairwise(ts, tbs):\n",
    "        if t and tb and t.asset != tb.asset:\n",
    "            trade_dict =  {\"operator\": tb.sender, \n",
    "                    \"recipient\": t.receiver, \n",
    "                    \"pool\": t.sender, \n",
    "                    \"asset_in\": tb.asset,\n",
    "                    \"asset_out\": t.asset,\n",
    "                    \"amount_in\": tb.amount,\n",
    "                    \"amount_out\": t.amount,\n",
    "                    \"log_idx\": [t.idx, tb.idx]}\n",
    "            yield Trade(**trade_dict)\n",
    "    return None\n",
    "\n",
    "def pairwise(iterable_1, iterable_2=None):\n",
    "    if iterable_2 is None:\n",
    "        return itertools.product(iterable_1, iterable_1)\n",
    "    return itertools.product(iterable_1, iterable_2)\n",
    "\n",
    "def has_trade(logs):\n",
    "    t = has_transfer_normal(logs)\n",
    "    if not t:\n",
    "        return None\n",
    "    for t1, t2 in pairwise(t):\n",
    "        if t1 and t2 and t1.asset != t2.asset and t1.receiver == t2.sender:\n",
    "            trade_dict = {\"operator\": t1.sender, \n",
    "                    \"recipient\": t2.receiver, \n",
    "                    \"pool\": t1.receiver, \n",
    "                    \"asset_in\": t1.asset,\n",
    "                    \"asset_out\": t2.asset,\n",
    "                    \"amount_in\": t1.amount,\n",
    "                    \"amount_out\": t2.amount,\n",
    "                    \"log_idx\": [t1.idx, t2.idx]}\n",
    "            yield Trade(**trade_dict)\n",
    "    return None\n",
    "\n",
    "def has_trade_alt(logs):\n",
    "    lms = has_liquidity_mining(logs)\n",
    "    lcs = has_liquidity_cancel(logs)\n",
    "    if not lms or lcs:\n",
    "        return None\n",
    "    for lm, lc in pairwise(lms, lcs):\n",
    "        if (lm and lc \n",
    "            and lm.recipient == lc.operator \n",
    "            and lm.asset_in != lc.asset_out \n",
    "            and lm.asset_out != lc.asset_in):\n",
    "            trade_dict =  {\"operator\": lm.operator, \n",
    "                    \"recipient\": lc.recipient, \n",
    "                    \"pool\": lm.recipient, \n",
    "                    \"asset_in\": lm.asset_in,\n",
    "                    \"asset_out\": lc.asset_out,\n",
    "                    \"amount_in\": lm.amount_in,\n",
    "                    \"amount_out\": lc.amount_out,\n",
    "                    \"log_idx\": [lm.idx, lc.idx]}\n",
    "            yield Trade(**trade_dict)\n",
    "    return None\n",
    "\n"
   ]
  },
  {
   "cell_type": "code",
   "execution_count": 10,
   "id": "6d8da42e-eada-4c95-9d4b-15fbc6d938e7",
   "metadata": {},
   "outputs": [],
   "source": [
    "def parse_record(record):\n",
    "    assets = record.token_address\n",
    "    senders = record.from_address\n",
    "    receivers = record.to_address\n",
    "    amounts = record.value\n",
    "    logs = []\n",
    "    for i in range(len(assets)):      \n",
    "        log_dict = {\n",
    "            \"idx\": i,\n",
    "            \"asset\": assets[i],\n",
    "            \"sender\": senders[i],\n",
    "            \"receiver\": receivers[i],\n",
    "            \"amount\": amounts[i],\n",
    "        }\n",
    "        logs.append(Log(**log_dict))\n",
    "    return logs"
   ]
  },
  {
   "cell_type": "code",
   "execution_count": 11,
   "id": "80b4cef1-a251-49ec-b23c-e7929b86beec",
   "metadata": {},
   "outputs": [],
   "source": [
    "PERCENTAGE = 0.02\n",
    "\n",
    "def has_trade_huge(trades, percentage=PERCENTAGE):\n",
    "    for trade in trades:\n",
    "        if (int(trade.amount_in) / (10 ** token_decimal[trade.asset_in]) >= token_supply[trade.asset_in] * PERCENTAGE \n",
    "                or int(trade.amount_out) / (10 ** token_decimal[trade.asset_out]) >= token_supply[trade.asset_out] * PERCENTAGE ):\n",
    "            yield trade\n",
    "            \n",
    "def has_wash_trade(trades, percentage=PERCENTAGE):\n",
    "    total_amount = {}\n",
    "    for trade in trades:\n",
    "        if trade.asset_out not in total_amount:\n",
    "            total_amount[trade.asset_out] = int(trade.amount_out)\n",
    "        else:\n",
    "            total_amount[trade.asset_out] += int(trade.amount_out)\n",
    "    for token, amount in total_amount.items():\n",
    "        if total_amount[token] / (10 ** token_decimal[token]) >= token_supply[token] * PERCENTAGE:\n",
    "            return True\n",
    "    return False"
   ]
  },
  {
   "cell_type": "code",
   "execution_count": 12,
   "id": "af4bdb23-179a-47cf-99c6-0ca995a67b29",
   "metadata": {},
   "outputs": [],
   "source": [
    "def is_direct_pm(logs, percentage):\n",
    "    trades = list(has_trade(logs)) + list(has_trade_alt(logs))\n",
    "    huge_trades = list(has_trade_huge(trades, percentage))\n",
    "    if huge_trades:\n",
    "        return True\n",
    "    if has_wash_trade(trades, percentage):\n",
    "        return True\n",
    "    return False"
   ]
  },
  {
   "cell_type": "code",
   "execution_count": 24,
   "id": "48a9ea60-c7a7-4959-b842-2917365fe46a",
   "metadata": {},
   "outputs": [],
   "source": [
    "pm_txns = []\n",
    "for _, record in df.iterrows():\n",
    "    logs = parse_record(record)\n",
    "    if is_direct_pm(logs, PERCENTAGE):\n",
    "        pm_txns.append(record.transaction_hash)"
   ]
  },
  {
   "cell_type": "code",
   "execution_count": 25,
   "id": "bea9a752-c616-4e08-a883-b5b46e91f53d",
   "metadata": {},
   "outputs": [
    {
     "data": {
      "text/plain": [
       "148"
      ]
     },
     "execution_count": 25,
     "metadata": {},
     "output_type": "execute_result"
    }
   ],
   "source": [
    "len(pm_txns)"
   ]
  },
  {
   "cell_type": "code",
   "execution_count": 16,
   "id": "d399f439-2bd2-4ffb-9c8c-bc8752f91c56",
   "metadata": {},
   "outputs": [
    {
     "data": {
      "text/plain": [
       "88103"
      ]
     },
     "execution_count": 16,
     "metadata": {},
     "output_type": "execute_result"
    }
   ],
   "source": [
    "len(df)"
   ]
  },
  {
   "cell_type": "code",
   "execution_count": 17,
   "id": "cc0ab05b-214e-424f-9abd-8e812d31c054",
   "metadata": {},
   "outputs": [],
   "source": [
    "def inspect_pm_log(txn_hash):\n",
    "    logs = parse_record(df[df.transaction_hash == txn_hash].iloc[0])\n",
    "    return pd.DataFrame(logs)\n",
    "\n",
    "def inspect_pm_trade(txn_hash):\n",
    "    logs = parse_record(df[df.transaction_hash == txn_hash].iloc[0])\n",
    "    # print(logs)\n",
    "    return pd.DataFrame(list(has_trade(logs)) + list(has_trade_alt(logs)))"
   ]
  },
  {
   "cell_type": "code",
   "execution_count": 26,
   "id": "76fc7700-511d-4166-add8-a1ea06742385",
   "metadata": {},
   "outputs": [
    {
     "data": {
      "text/plain": [
       "'0x9f44b4a8584c3f4a53910330c65ca96c9adb60569bb60d0e19f4912ce4dcdbc1'"
      ]
     },
     "execution_count": 26,
     "metadata": {},
     "output_type": "execute_result"
    }
   ],
   "source": [
    "pm_txns[-1]"
   ]
  },
  {
   "cell_type": "code",
   "execution_count": 19,
   "id": "40b0dbe3-7770-48ff-8958-2bc97ae7e02e",
   "metadata": {},
   "outputs": [
    {
     "data": {
      "text/html": [
       "<div>\n",
       "<style scoped>\n",
       "    .dataframe tbody tr th:only-of-type {\n",
       "        vertical-align: middle;\n",
       "    }\n",
       "\n",
       "    .dataframe tbody tr th {\n",
       "        vertical-align: top;\n",
       "    }\n",
       "\n",
       "    .dataframe thead th {\n",
       "        text-align: right;\n",
       "    }\n",
       "</style>\n",
       "<table border=\"1\" class=\"dataframe\">\n",
       "  <thead>\n",
       "    <tr style=\"text-align: right;\">\n",
       "      <th></th>\n",
       "      <th>sender</th>\n",
       "      <th>receiver</th>\n",
       "      <th>amount</th>\n",
       "      <th>asset</th>\n",
       "      <th>idx</th>\n",
       "    </tr>\n",
       "  </thead>\n",
       "  <tbody>\n",
       "    <tr>\n",
       "      <th>0</th>\n",
       "      <td>0x8f893cef5611d17b5c421ced8279c9c4b0bece4f</td>\n",
       "      <td>0x0000000000000000000000000000000000000000</td>\n",
       "      <td>5323257118107965</td>\n",
       "      <td>0xfe18be6b3bd88a2d2a7f928d00292e7a9963cfc6</td>\n",
       "      <td>0</td>\n",
       "    </tr>\n",
       "    <tr>\n",
       "      <th>1</th>\n",
       "      <td>0x8f893cef5611d17b5c421ced8279c9c4b0bece4f</td>\n",
       "      <td>0xd1602f68cc7c4c7b59d686243ea35a9c73b0c6a2</td>\n",
       "      <td>3206418950788923120</td>\n",
       "      <td>0xfe18be6b3bd88a2d2a7f928d00292e7a9963cfc6</td>\n",
       "      <td>1</td>\n",
       "    </tr>\n",
       "    <tr>\n",
       "      <th>2</th>\n",
       "      <td>0xd1602f68cc7c4c7b59d686243ea35a9c73b0c6a2</td>\n",
       "      <td>0x7fc77b5c7614e1533320ea6ddc2eb61fa00a9714</td>\n",
       "      <td>3206418950788923120</td>\n",
       "      <td>0xfe18be6b3bd88a2d2a7f928d00292e7a9963cfc6</td>\n",
       "      <td>2</td>\n",
       "    </tr>\n",
       "    <tr>\n",
       "      <th>3</th>\n",
       "      <td>0x7fc77b5c7614e1533320ea6ddc2eb61fa00a9714</td>\n",
       "      <td>0xd1602f68cc7c4c7b59d686243ea35a9c73b0c6a2</td>\n",
       "      <td>325276327</td>\n",
       "      <td>0xeb4c2781e4eba804ce9a9803c67d0893436bb27d</td>\n",
       "      <td>3</td>\n",
       "    </tr>\n",
       "    <tr>\n",
       "      <th>4</th>\n",
       "      <td>0xd1602f68cc7c4c7b59d686243ea35a9c73b0c6a2</td>\n",
       "      <td>0x05c31f9623a5b691f18e60e68f23c64cd708badb</td>\n",
       "      <td>325276327</td>\n",
       "      <td>0xeb4c2781e4eba804ce9a9803c67d0893436bb27d</td>\n",
       "      <td>4</td>\n",
       "    </tr>\n",
       "  </tbody>\n",
       "</table>\n",
       "</div>"
      ],
      "text/plain": [
       "                                       sender  \\\n",
       "0  0x8f893cef5611d17b5c421ced8279c9c4b0bece4f   \n",
       "1  0x8f893cef5611d17b5c421ced8279c9c4b0bece4f   \n",
       "2  0xd1602f68cc7c4c7b59d686243ea35a9c73b0c6a2   \n",
       "3  0x7fc77b5c7614e1533320ea6ddc2eb61fa00a9714   \n",
       "4  0xd1602f68cc7c4c7b59d686243ea35a9c73b0c6a2   \n",
       "\n",
       "                                     receiver               amount  \\\n",
       "0  0x0000000000000000000000000000000000000000     5323257118107965   \n",
       "1  0xd1602f68cc7c4c7b59d686243ea35a9c73b0c6a2  3206418950788923120   \n",
       "2  0x7fc77b5c7614e1533320ea6ddc2eb61fa00a9714  3206418950788923120   \n",
       "3  0xd1602f68cc7c4c7b59d686243ea35a9c73b0c6a2            325276327   \n",
       "4  0x05c31f9623a5b691f18e60e68f23c64cd708badb            325276327   \n",
       "\n",
       "                                        asset  idx  \n",
       "0  0xfe18be6b3bd88a2d2a7f928d00292e7a9963cfc6    0  \n",
       "1  0xfe18be6b3bd88a2d2a7f928d00292e7a9963cfc6    1  \n",
       "2  0xfe18be6b3bd88a2d2a7f928d00292e7a9963cfc6    2  \n",
       "3  0xeb4c2781e4eba804ce9a9803c67d0893436bb27d    3  \n",
       "4  0xeb4c2781e4eba804ce9a9803c67d0893436bb27d    4  "
      ]
     },
     "execution_count": 19,
     "metadata": {},
     "output_type": "execute_result"
    }
   ],
   "source": [
    "inspect_pm_log(pm_txns[-2])"
   ]
  },
  {
   "cell_type": "code",
   "execution_count": 20,
   "id": "9d52ff24-33be-4ce3-bdb3-4043a1d78e5c",
   "metadata": {},
   "outputs": [
    {
     "data": {
      "text/html": [
       "<div>\n",
       "<style scoped>\n",
       "    .dataframe tbody tr th:only-of-type {\n",
       "        vertical-align: middle;\n",
       "    }\n",
       "\n",
       "    .dataframe tbody tr th {\n",
       "        vertical-align: top;\n",
       "    }\n",
       "\n",
       "    .dataframe thead th {\n",
       "        text-align: right;\n",
       "    }\n",
       "</style>\n",
       "<table border=\"1\" class=\"dataframe\">\n",
       "  <thead>\n",
       "    <tr style=\"text-align: right;\">\n",
       "      <th></th>\n",
       "      <th>operator</th>\n",
       "      <th>recipient</th>\n",
       "      <th>pool</th>\n",
       "      <th>asset_in</th>\n",
       "      <th>asset_out</th>\n",
       "      <th>amount_in</th>\n",
       "      <th>amount_out</th>\n",
       "      <th>log_idx</th>\n",
       "    </tr>\n",
       "  </thead>\n",
       "  <tbody>\n",
       "    <tr>\n",
       "      <th>0</th>\n",
       "      <td>0x8f893cef5611d17b5c421ced8279c9c4b0bece4f</td>\n",
       "      <td>0x05c31f9623a5b691f18e60e68f23c64cd708badb</td>\n",
       "      <td>0xd1602f68cc7c4c7b59d686243ea35a9c73b0c6a2</td>\n",
       "      <td>0xfe18be6b3bd88a2d2a7f928d00292e7a9963cfc6</td>\n",
       "      <td>0xeb4c2781e4eba804ce9a9803c67d0893436bb27d</td>\n",
       "      <td>3206418950788923120</td>\n",
       "      <td>325276327</td>\n",
       "      <td>[1, 4]</td>\n",
       "    </tr>\n",
       "    <tr>\n",
       "      <th>1</th>\n",
       "      <td>0xd1602f68cc7c4c7b59d686243ea35a9c73b0c6a2</td>\n",
       "      <td>0xd1602f68cc7c4c7b59d686243ea35a9c73b0c6a2</td>\n",
       "      <td>0x7fc77b5c7614e1533320ea6ddc2eb61fa00a9714</td>\n",
       "      <td>0xfe18be6b3bd88a2d2a7f928d00292e7a9963cfc6</td>\n",
       "      <td>0xeb4c2781e4eba804ce9a9803c67d0893436bb27d</td>\n",
       "      <td>3206418950788923120</td>\n",
       "      <td>325276327</td>\n",
       "      <td>[2, 3]</td>\n",
       "    </tr>\n",
       "    <tr>\n",
       "      <th>2</th>\n",
       "      <td>0x7fc77b5c7614e1533320ea6ddc2eb61fa00a9714</td>\n",
       "      <td>0x7fc77b5c7614e1533320ea6ddc2eb61fa00a9714</td>\n",
       "      <td>0xd1602f68cc7c4c7b59d686243ea35a9c73b0c6a2</td>\n",
       "      <td>0xeb4c2781e4eba804ce9a9803c67d0893436bb27d</td>\n",
       "      <td>0xfe18be6b3bd88a2d2a7f928d00292e7a9963cfc6</td>\n",
       "      <td>325276327</td>\n",
       "      <td>3206418950788923120</td>\n",
       "      <td>[3, 2]</td>\n",
       "    </tr>\n",
       "  </tbody>\n",
       "</table>\n",
       "</div>"
      ],
      "text/plain": [
       "                                     operator  \\\n",
       "0  0x8f893cef5611d17b5c421ced8279c9c4b0bece4f   \n",
       "1  0xd1602f68cc7c4c7b59d686243ea35a9c73b0c6a2   \n",
       "2  0x7fc77b5c7614e1533320ea6ddc2eb61fa00a9714   \n",
       "\n",
       "                                    recipient  \\\n",
       "0  0x05c31f9623a5b691f18e60e68f23c64cd708badb   \n",
       "1  0xd1602f68cc7c4c7b59d686243ea35a9c73b0c6a2   \n",
       "2  0x7fc77b5c7614e1533320ea6ddc2eb61fa00a9714   \n",
       "\n",
       "                                         pool  \\\n",
       "0  0xd1602f68cc7c4c7b59d686243ea35a9c73b0c6a2   \n",
       "1  0x7fc77b5c7614e1533320ea6ddc2eb61fa00a9714   \n",
       "2  0xd1602f68cc7c4c7b59d686243ea35a9c73b0c6a2   \n",
       "\n",
       "                                     asset_in  \\\n",
       "0  0xfe18be6b3bd88a2d2a7f928d00292e7a9963cfc6   \n",
       "1  0xfe18be6b3bd88a2d2a7f928d00292e7a9963cfc6   \n",
       "2  0xeb4c2781e4eba804ce9a9803c67d0893436bb27d   \n",
       "\n",
       "                                    asset_out            amount_in  \\\n",
       "0  0xeb4c2781e4eba804ce9a9803c67d0893436bb27d  3206418950788923120   \n",
       "1  0xeb4c2781e4eba804ce9a9803c67d0893436bb27d  3206418950788923120   \n",
       "2  0xfe18be6b3bd88a2d2a7f928d00292e7a9963cfc6            325276327   \n",
       "\n",
       "            amount_out log_idx  \n",
       "0            325276327  [1, 4]  \n",
       "1            325276327  [2, 3]  \n",
       "2  3206418950788923120  [3, 2]  "
      ]
     },
     "execution_count": 20,
     "metadata": {},
     "output_type": "execute_result"
    }
   ],
   "source": [
    "inspect_pm_trade(pm_txns[-2])"
   ]
  },
  {
   "cell_type": "code",
   "execution_count": null,
   "id": "5bf0ec6d-c482-4591-b345-5c23c4be9d76",
   "metadata": {
    "tags": []
   },
   "outputs": [],
   "source": [
    "pm_number = []\n",
    "for percentage in range(1000, 1, -1):\n",
    "    pm_txns = []\n",
    "    percentage = percentage/1000\n",
    "    for _, record in df.iterrows():\n",
    "        logs = parse_record(record)\n",
    "        if is_direct_pm(logs, percentage):\n",
    "            pm_txns.append(record.transaction_hash)\n",
    "    #print(f\"{percentage}: {len(pm_txns)}\")\n",
    "    pm_number.append((percentage, len(pm_txns)))"
   ]
  },
  {
   "cell_type": "code",
   "execution_count": null,
   "id": "e51ffd1b-128c-44f8-84c4-18027fb45fec",
   "metadata": {
    "tags": []
   },
   "outputs": [],
   "source": [
    "len(pm_number)"
   ]
  },
  {
   "cell_type": "code",
   "execution_count": 27,
   "id": "a5345d61-45b1-4e06-a3a3-d8ff39eb0d1c",
   "metadata": {},
   "outputs": [],
   "source": [
    "import pickle\n",
    "with open('pm_number.pkl', 'wb') as file:\n",
    "    pickle.dump(pm_number, file)"
   ]
  },
  {
   "cell_type": "code",
   "execution_count": 32,
   "id": "526f030c-e15c-47ba-99db-cac6afa4fee4",
   "metadata": {},
   "outputs": [
    {
     "data": {
      "text/plain": [
       "(0.002, 220)"
      ]
     },
     "execution_count": 32,
     "metadata": {},
     "output_type": "execute_result"
    }
   ],
   "source": [
    "pm_number[998]"
   ]
  },
  {
   "cell_type": "code",
   "execution_count": 50,
   "id": "fa008e4e-d9d6-4261-89e5-f07dc5dbfb7b",
   "metadata": {},
   "outputs": [],
   "source": [
    "def parse_record(record):\n",
    "    assets = record.token_address\n",
    "    senders = record.from_address\n",
    "    receivers = record.to_address\n",
    "    amounts = record.value\n",
    "    logs = []\n",
    "    for i in range(len(assets)):      \n",
    "        log_dict = {\n",
    "            \"idx\": i,\n",
    "            \"asset\": assets[i],\n",
    "            \"sender\": senders[i],\n",
    "            \"receiver\": receivers[i],\n",
    "            \"amount\": amounts[i],\n",
    "        }\n",
    "        logs.append(Log(**log_dict))\n",
    "    return logs\n",
    "\n",
    "trades = []\n",
    "for _, record in df.iterrows():\n",
    "    logs = parse_record(record)\n",
    "    trade = list(has_trade(logs)) + list(has_trade_alt(logs))\n",
    "    trades += trade"
   ]
  },
  {
   "cell_type": "code",
   "execution_count": 51,
   "id": "345f6ce1-1dc3-4c29-99f1-d0c27c07e181",
   "metadata": {},
   "outputs": [
    {
     "data": {
      "text/plain": [
       "213157"
      ]
     },
     "execution_count": 51,
     "metadata": {},
     "output_type": "execute_result"
    }
   ],
   "source": [
    "len(trades)"
   ]
  },
  {
   "cell_type": "code",
   "execution_count": 52,
   "id": "80691802-9d59-463a-8fc7-0ec11fa8ba7b",
   "metadata": {},
   "outputs": [],
   "source": [
    "pm_number = []\n",
    "for percentage in range(1000, 1, -1):\n",
    "    percentage = percentage/1000\n",
    "    count = 0\n",
    "    for trade in trades:\n",
    "        if (int(trade.amount_in) / \n",
    "            (10 ** token_decimal[trade.asset_in]) \n",
    "            >= token_supply[trade.asset_in] * percentage \n",
    "            or int(trade.amount_out) / \n",
    "            (10 ** token_decimal[trade.asset_out]) \n",
    "            >= token_supply[trade.asset_out] * percentage ):\n",
    "            count += 1\n",
    "    pm_number.append((percentage, count))"
   ]
  },
  {
   "cell_type": "code",
   "execution_count": 53,
   "id": "a1b4e5aa-4aab-4e5c-bd72-bc5fba998e34",
   "metadata": {},
   "outputs": [],
   "source": [
    "pm_df = df.loc[df[\"transaction_hash\"].isin(pm_txns)]\n",
    "with open(\"X:\\pomabuster\\pom\\pom.jsonl\", \"a\") as f:\n",
    "    f.write(pm_df.to_json(orient='records', lines=True))"
   ]
  },
  {
   "cell_type": "code",
   "execution_count": 55,
   "id": "f78f4b51-dc93-4e44-b4e2-3d24e84f5d0a",
   "metadata": {},
   "outputs": [
    {
     "name": "stderr",
     "output_type": "stream",
     "text": [
      "100%|█████████████████████████████████████████████████████████████████████████| 400/400 [58:17<00:00,  8.74s/it]\n"
     ]
    }
   ],
   "source": [
    "from tqdm import tqdm\n",
    "\n",
    "fn_template = \"X:\\pomabuster\\swap-new\\swap-000000000\" # 000 - 399 # swap-000000000000\n",
    "for i in tqdm(range(400)):\n",
    "    if len(str(i)) == 1:\n",
    "        file_number = \"00\" + str(i)\n",
    "    elif len(str(i)) == 2:\n",
    "        file_number = \"0\" + str(i)\n",
    "    else:\n",
    "        file_number = str(i)\n",
    "    # print(file_number)\n",
    "    df = pd.read_json(fn_template + file_number, lines=True)\n",
    "    pm_txns = []\n",
    "    for _, record in df.iterrows():\n",
    "        logs = parse_record(record)\n",
    "        if is_direct_pm(logs, PERCENTAGE):\n",
    "            pm_txns.append(record.transaction_hash)\n",
    "    pm_df = df.loc[df[\"transaction_hash\"].isin(pm_txns)]\n",
    "    with open(\"X:\\pomabuster\\pom\\pom2.jsonl\", \"a\") as f:\n",
    "        f.write(pm_df.to_json(orient='records', lines=True))"
   ]
  },
  {
   "cell_type": "code",
   "execution_count": null,
   "id": "7f367920-2269-4dae-beaf-b2f078925d24",
   "metadata": {},
   "outputs": [],
   "source": []
  }
 ],
 "metadata": {
  "kernelspec": {
   "display_name": "Python 3 (ipykernel)",
   "language": "python",
   "name": "python3"
  },
  "language_info": {
   "codemirror_mode": {
    "name": "ipython",
    "version": 3
   },
   "file_extension": ".py",
   "mimetype": "text/x-python",
   "name": "python",
   "nbconvert_exporter": "python",
   "pygments_lexer": "ipython3",
   "version": "3.10.0"
  }
 },
 "nbformat": 4,
 "nbformat_minor": 5
}
