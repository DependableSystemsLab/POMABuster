{
 "cells": [
  {
   "cell_type": "code",
   "execution_count": 7,
   "id": "de3daced-8c19-4efe-8de3-433573d6a1f0",
   "metadata": {},
   "outputs": [],
   "source": [
    "import pandas as pd"
   ]
  },
  {
   "cell_type": "code",
   "execution_count": 8,
   "id": "7d11e150-cc85-469f-a2f5-947380e4e9e7",
   "metadata": {},
   "outputs": [
    {
     "name": "stdout",
     "output_type": "stream",
     "text": [
      "{\"index\": \"6\", \"name\": \"Matic Token (MATIC)\", \"address\": \"0x7d1afa7b718fb893db30a3abc0cfc608aacfebb0\", \"price_in_usd\": \"0.7015\", \"volume\": \"310862957.00\", \"market_cap_circulating\": \"6537801645.00\", \"market_cap_onchain\": \"7015208265.94\", \"holders\": \"618802\", \"market_cap_fully_diluted\": \"7015208265.94\", \"total_supply\": \"10000000000\", \"decimals\": \"18\", \"official_website\": \"polygon.technology\"}\n"
     ]
    }
   ],
   "source": [
    "fn = \"../tokens/scrape_erc20/erc20.jsonlines\"\n",
    "\n",
    "with open(fn) as f:\n",
    "    content = f.read()\n",
    "\n",
    "print(content.split(\"\\n\")[0])"
   ]
  },
  {
   "cell_type": "code",
   "execution_count": 9,
   "id": "3f6239f1-e8f1-498b-9760-c5262a33e1c5",
   "metadata": {},
   "outputs": [],
   "source": [
    "erc20_df = pd.read_json(fn, lines=True)"
   ]
  },
  {
   "cell_type": "code",
   "execution_count": 10,
   "id": "61fb5462-2bf2-4fe6-9dbf-4c03ff08d83b",
   "metadata": {},
   "outputs": [
    {
     "data": {
      "text/html": [
       "<div>\n",
       "<style scoped>\n",
       "    .dataframe tbody tr th:only-of-type {\n",
       "        vertical-align: middle;\n",
       "    }\n",
       "\n",
       "    .dataframe tbody tr th {\n",
       "        vertical-align: top;\n",
       "    }\n",
       "\n",
       "    .dataframe thead th {\n",
       "        text-align: right;\n",
       "    }\n",
       "</style>\n",
       "<table border=\"1\" class=\"dataframe\">\n",
       "  <thead>\n",
       "    <tr style=\"text-align: right;\">\n",
       "      <th></th>\n",
       "      <th>index</th>\n",
       "      <th>name</th>\n",
       "      <th>address</th>\n",
       "      <th>price_in_usd</th>\n",
       "      <th>volume</th>\n",
       "      <th>market_cap_circulating</th>\n",
       "      <th>market_cap_onchain</th>\n",
       "      <th>holders</th>\n",
       "      <th>market_cap_fully_diluted</th>\n",
       "      <th>total_supply</th>\n",
       "      <th>decimals</th>\n",
       "      <th>official_website</th>\n",
       "    </tr>\n",
       "  </thead>\n",
       "  <tbody>\n",
       "    <tr>\n",
       "      <th>72</th>\n",
       "      <td>1208</td>\n",
       "      <td>Crystal Clear Token (CCT)</td>\n",
       "      <td>0x336f646f87d9f6bc6ed42dd46e8b3fd9dbd15c22</td>\n",
       "      <td>0.001</td>\n",
       "      <td>1</td>\n",
       "      <td>5831</td>\n",
       "      <td>6815.42</td>\n",
       "      <td>1213</td>\n",
       "      <td>6815.42</td>\n",
       "      <td>6924060</td>\n",
       "      <td>18</td>\n",
       "      <td>crystal-clear.io</td>\n",
       "    </tr>\n",
       "  </tbody>\n",
       "</table>\n",
       "</div>"
      ],
      "text/plain": [
       "    index                       name  \\\n",
       "72   1208  Crystal Clear Token (CCT)   \n",
       "\n",
       "                                       address  price_in_usd  volume  \\\n",
       "72  0x336f646f87d9f6bc6ed42dd46e8b3fd9dbd15c22         0.001       1   \n",
       "\n",
       "    market_cap_circulating  market_cap_onchain  holders  \\\n",
       "72                    5831             6815.42     1213   \n",
       "\n",
       "    market_cap_fully_diluted  total_supply  decimals  official_website  \n",
       "72                   6815.42       6924060        18  crystal-clear.io  "
      ]
     },
     "execution_count": 10,
     "metadata": {},
     "output_type": "execute_result"
    }
   ],
   "source": [
    "erc20_df.sample()"
   ]
  },
  {
   "cell_type": "code",
   "execution_count": 11,
   "id": "a24cbffb-eaa0-4f4e-b0c4-756c77b09c53",
   "metadata": {},
   "outputs": [
    {
     "data": {
      "text/plain": [
       "array([758, 758, 758, 758, 758, 758, 758, 758, 758, 758, 758, 758],\n",
       "      dtype=int64)"
      ]
     },
     "execution_count": 11,
     "metadata": {},
     "output_type": "execute_result"
    }
   ],
   "source": [
    "erc20_df[erc20_df[\"market_cap_circulating\"] > 1_000_000].count().values"
   ]
  },
  {
   "cell_type": "code",
   "execution_count": 12,
   "id": "ad4c2478-8099-4337-9659-0080fd05172b",
   "metadata": {},
   "outputs": [
    {
     "data": {
      "text/plain": [
       "array([436, 436, 436, 436, 436, 436, 436, 436, 436, 436, 436, 436],\n",
       "      dtype=int64)"
      ]
     },
     "execution_count": 12,
     "metadata": {},
     "output_type": "execute_result"
    }
   ],
   "source": [
    "erc20_df[erc20_df[\"market_cap_circulating\"] > 10_000_000].count().values"
   ]
  },
  {
   "cell_type": "code",
   "execution_count": 13,
   "id": "66f3577e-3676-403a-90b7-4b6b67adc5cf",
   "metadata": {},
   "outputs": [
    {
     "data": {
      "text/plain": [
       "array([132, 132, 132, 132, 132, 132, 132, 132, 132, 132, 132, 132],\n",
       "      dtype=int64)"
      ]
     },
     "execution_count": 13,
     "metadata": {},
     "output_type": "execute_result"
    }
   ],
   "source": [
    "erc20_df[erc20_df[\"market_cap_circulating\"] > 100_000_000].count().values"
   ]
  },
  {
   "cell_type": "code",
   "execution_count": 14,
   "id": "f0c6a78e-e57a-46df-a3af-909d0a865bc4",
   "metadata": {},
   "outputs": [
    {
     "data": {
      "text/plain": [
       "array([27, 27, 27, 27, 27, 27, 27, 27, 27, 27, 27, 27], dtype=int64)"
      ]
     },
     "execution_count": 14,
     "metadata": {},
     "output_type": "execute_result"
    }
   ],
   "source": [
    "erc20_df[erc20_df[\"market_cap_circulating\"] > 1_000_000_000].count().values"
   ]
  },
  {
   "cell_type": "code",
   "execution_count": 15,
   "id": "6dafae45-9309-43aa-b76b-2e3acd99a57e",
   "metadata": {},
   "outputs": [],
   "source": [
    "pom_fn = \"X:\\\\pomabuster\\\\pom\\\\pom2.jsonl\"\n",
    "arb_fn = \"X:\\\\pomabuster\\\\arb\\\\arb2.jsonl\"\n",
    "\n",
    "pom_df = pd.read_json(pom_fn, lines=True)\n",
    "arb_df = pd.read_json(arb_fn, lines=True)"
   ]
  },
  {
   "cell_type": "code",
   "execution_count": 16,
   "id": "a05866b4-c26b-4b39-a81e-de49c95fcb05",
   "metadata": {},
   "outputs": [],
   "source": [
    "from dataclasses import dataclass\n",
    "\n",
    "@dataclass\n",
    "class Log:\n",
    "    sender: str\n",
    "    receiver: str\n",
    "    amount: str\n",
    "    asset: str\n",
    "    idx: int\n",
    "    \n",
    "@dataclass\n",
    "class Trade:\n",
    "    operator: str\n",
    "    recipient: str\n",
    "    pool: str\n",
    "    asset_in: str\n",
    "    asset_out: str\n",
    "    amount_in: str\n",
    "    amount_out: str\n",
    "    log_idx: list\n",
    "\n",
    "def parse_record(record):\n",
    "    assets = record.token_address\n",
    "    senders = record.from_address\n",
    "    receivers = record.to_address\n",
    "    amounts = record.value\n",
    "    logs = []\n",
    "    for i in range(len(assets)):      \n",
    "        log_dict = {\n",
    "            \"idx\": i,\n",
    "            \"asset\": assets[i],\n",
    "            \"sender\": senders[i],\n",
    "            \"receiver\": receivers[i],\n",
    "            \"amount\": amounts[i],\n",
    "        }\n",
    "        logs.append(Log(**log_dict))\n",
    "    return logs"
   ]
  },
  {
   "cell_type": "code",
   "execution_count": 17,
   "id": "9452c73c-de0d-4a3c-83a1-3bd565828e4c",
   "metadata": {},
   "outputs": [],
   "source": [
    "high_value_erc20 = erc20_df[erc20_df[\"market_cap_circulating\"] > 1_000_000_000][\"address\"].values"
   ]
  },
  {
   "cell_type": "code",
   "execution_count": 18,
   "id": "7f27db53-df7c-43fc-a9d4-f8b40b835161",
   "metadata": {},
   "outputs": [
    {
     "data": {
      "text/html": [
       "<div>\n",
       "<style scoped>\n",
       "    .dataframe tbody tr th:only-of-type {\n",
       "        vertical-align: middle;\n",
       "    }\n",
       "\n",
       "    .dataframe tbody tr th {\n",
       "        vertical-align: top;\n",
       "    }\n",
       "\n",
       "    .dataframe thead th {\n",
       "        text-align: right;\n",
       "    }\n",
       "</style>\n",
       "<table border=\"1\" class=\"dataframe\">\n",
       "  <thead>\n",
       "    <tr style=\"text-align: right;\">\n",
       "      <th></th>\n",
       "      <th>block_number</th>\n",
       "      <th>transaction_hash</th>\n",
       "      <th>token_address</th>\n",
       "      <th>from_address</th>\n",
       "      <th>to_address</th>\n",
       "      <th>value</th>\n",
       "      <th>operator</th>\n",
       "      <th>recipient</th>\n",
       "      <th>is_trade</th>\n",
       "    </tr>\n",
       "  </thead>\n",
       "  <tbody>\n",
       "    <tr>\n",
       "      <th>52343</th>\n",
       "      <td>12685270</td>\n",
       "      <td>0x4bb4d662f4858cd5262411548a7a2b97ca2dad39a46c...</td>\n",
       "      <td>[0x6b175474e89094c44da98b954eedeac495271d0f, 0...</td>\n",
       "      <td>[0xaae0633e15200bc9c50d45cd762477d268e126bd, 0...</td>\n",
       "      <td>[0x1c073d5045b1abb6924d5f0f8b2f667b1653a4c3, 0...</td>\n",
       "      <td>[340736000000000000000000, 3407360000000000000...</td>\n",
       "      <td>0xaae0633e15200bc9c50d45cd762477d268e126bd</td>\n",
       "      <td>0x9a67f1940164d0318612b497e8e6038f902a00a4</td>\n",
       "      <td>True</td>\n",
       "    </tr>\n",
       "  </tbody>\n",
       "</table>\n",
       "</div>"
      ],
      "text/plain": [
       "       block_number                                   transaction_hash  \\\n",
       "52343      12685270  0x4bb4d662f4858cd5262411548a7a2b97ca2dad39a46c...   \n",
       "\n",
       "                                           token_address  \\\n",
       "52343  [0x6b175474e89094c44da98b954eedeac495271d0f, 0...   \n",
       "\n",
       "                                            from_address  \\\n",
       "52343  [0xaae0633e15200bc9c50d45cd762477d268e126bd, 0...   \n",
       "\n",
       "                                              to_address  \\\n",
       "52343  [0x1c073d5045b1abb6924d5f0f8b2f667b1653a4c3, 0...   \n",
       "\n",
       "                                                   value  \\\n",
       "52343  [340736000000000000000000, 3407360000000000000...   \n",
       "\n",
       "                                         operator  \\\n",
       "52343  0xaae0633e15200bc9c50d45cd762477d268e126bd   \n",
       "\n",
       "                                        recipient  is_trade  \n",
       "52343  0x9a67f1940164d0318612b497e8e6038f902a00a4      True  "
      ]
     },
     "execution_count": 18,
     "metadata": {},
     "output_type": "execute_result"
    }
   ],
   "source": [
    "pom_df.sample()"
   ]
  },
  {
   "cell_type": "code",
   "execution_count": 19,
   "id": "811965bc-d56b-405c-a970-e9225265b80d",
   "metadata": {},
   "outputs": [
    {
     "data": {
      "text/plain": [
       "58957"
      ]
     },
     "execution_count": 19,
     "metadata": {},
     "output_type": "execute_result"
    }
   ],
   "source": [
    "len(pom_df)"
   ]
  },
  {
   "cell_type": "code",
   "execution_count": 20,
   "id": "61f4a825-221e-4219-bb14-fce0192ccfc3",
   "metadata": {},
   "outputs": [
    {
     "name": "stderr",
     "output_type": "stream",
     "text": [
      "58957it [00:07, 7948.83it/s]\n"
     ]
    }
   ],
   "source": [
    "# filter out POM first\n",
    "#new_pom_df = pom_df[pom_df[\"pom_df\"]]\n",
    "from tqdm import tqdm\n",
    "\n",
    "included = []\n",
    "for _, pom in tqdm(pom_df.iterrows()):\n",
    "    flag = False\n",
    "    pom_logs = parse_record(pom)\n",
    "    pom_assets = [log.asset for log in pom_logs]\n",
    "    for asset in pom_assets:\n",
    "        if asset in high_value_erc20:\n",
    "            flag = True\n",
    "    included.append(flag)\n"
   ]
  },
  {
   "cell_type": "code",
   "execution_count": 21,
   "id": "8953ee7b-2af4-4636-91e9-c3681bbafcb6",
   "metadata": {},
   "outputs": [
    {
     "data": {
      "text/plain": [
       "57008"
      ]
     },
     "execution_count": 21,
     "metadata": {},
     "output_type": "execute_result"
    }
   ],
   "source": [
    "sum(included)"
   ]
  },
  {
   "cell_type": "code",
   "execution_count": 23,
   "id": "1de567c7-d94c-43e2-b714-affe613ba40a",
   "metadata": {},
   "outputs": [],
   "source": [
    "pom_df[\"include\"] = included"
   ]
  },
  {
   "cell_type": "code",
   "execution_count": 24,
   "id": "04cedb13-b85d-4e2b-aa29-db47c1a03845",
   "metadata": {},
   "outputs": [],
   "source": [
    "new_pom_df = pom_df[pom_df[\"include\"] == True]"
   ]
  },
  {
   "cell_type": "code",
   "execution_count": 25,
   "id": "ce517d70-04b6-4541-a845-5d173e7b8374",
   "metadata": {},
   "outputs": [
    {
     "name": "stderr",
     "output_type": "stream",
     "text": [
      "57008it [02:10, 437.61it/s]\n"
     ]
    }
   ],
   "source": [
    "from tqdm import tqdm\n",
    "\n",
    "link = []\n",
    "for _, pom in tqdm(new_pom_df.iterrows()):\n",
    "    pom_logs = parse_record(pom)\n",
    "    pom_assets = set([log.asset for log in pom_logs])\n",
    "    pom_block_number = pom[\"block_number\"]\n",
    "    arb = arb_df[(arb_df[\"block_number\"] >= pom_block_number) & (arb_df[\"block_number\"] - pom_block_number <= 2)]\n",
    "    if not arb.empty:\n",
    "        arb_logs = parse_record(arb.iloc[0])\n",
    "        arb_assets = set([log.asset for log in arb_logs])\n",
    "        if arb_assets.intersection(pom_assets):\n",
    "            link.append((pom[\"transaction_hash\"], arb.iloc[0][\"transaction_hash\"]))"
   ]
  },
  {
   "cell_type": "code",
   "execution_count": 26,
   "id": "da5a0376-92c2-4480-a696-ccd85871acf5",
   "metadata": {},
   "outputs": [
    {
     "name": "stdout",
     "output_type": "stream",
     "text": [
      "16323\n"
     ]
    }
   ],
   "source": [
    "print(len(link))"
   ]
  },
  {
   "cell_type": "code",
   "execution_count": null,
   "id": "777496da-ec87-4e19-a8d5-52ac6bc91384",
   "metadata": {},
   "outputs": [],
   "source": [
    "high_value_erc20 = erc20_df[erc20_df[\"market_cap_circulating\"] > 1_00_000_000][\"address\"].values\n",
    "\n",
    "included = []\n",
    "for _, pom in tqdm(pom_df.iterrows()):\n",
    "    flag = False\n",
    "    pom_logs = parse_record(pom)\n",
    "    pom_assets = [log.asset for log in pom_logs]\n",
    "    for asset in pom_assets:\n",
    "        if asset in high_value_erc20:\n",
    "            flag = True\n",
    "    included.append(flag)\n",
    "\n",
    "new_pom_df = pom_df[pom_df[\"include\"] == True]\n",
    "\n",
    "link = []\n",
    "for _, pom in tqdm(new_pom_df.iterrows()):\n",
    "    pom_logs = parse_record(pom)\n",
    "    pom_assets = set([log.asset for log in pom_logs])\n",
    "    pom_block_number = pom[\"block_number\"]\n",
    "    arb = arb_df[(arb_df[\"block_number\"] >= pom_block_number) & (arb_df[\"block_number\"] - pom_block_number <= 2)]\n",
    "    if not arb.empty:\n",
    "        arb_logs = parse_record(arb.iloc[0])\n",
    "        arb_assets = set([log.asset for log in arb_logs])\n",
    "        if arb_assets.intersection(pom_assets):\n",
    "            link.append((pom[\"transaction_hash\"], arb.iloc[0][\"transaction_hash\"]))\n",
    "\n",
    "print(len(link))"
   ]
  },
  {
   "cell_type": "code",
   "execution_count": null,
   "id": "e120031f-5fac-4417-86c5-0b1d21ba7f6d",
   "metadata": {},
   "outputs": [],
   "source": [
    "high_value_erc20 = erc20_df[erc20_df[\"market_cap_circulating\"] > 10_000_000][\"address\"].values\n",
    "\n",
    "included = []\n",
    "for _, pom in tqdm(pom_df.iterrows()):\n",
    "    flag = False\n",
    "    pom_logs = parse_record(pom)\n",
    "    pom_assets = [log.asset for log in pom_logs]\n",
    "    for asset in pom_assets:\n",
    "        if asset in high_value_erc20:\n",
    "            flag = True\n",
    "    included.append(flag)\n",
    "\n",
    "new_pom_df = pom_df[pom_df[\"include\"] == True]\n",
    "\n",
    "print(sum(included))"
   ]
  },
  {
   "cell_type": "code",
   "execution_count": null,
   "id": "e80f0239-f236-4a27-b2e6-9d82f0ce29ad",
   "metadata": {},
   "outputs": [],
   "source": [
    "link = []\n",
    "for _, pom in tqdm(pom_df.iterrows()):\n",
    "    pom_logs = parse_record(pom)\n",
    "    pom_assets = set([log.asset for log in pom_logs])\n",
    "    pom_block_number = pom[\"block_number\"]\n",
    "    arb = arb_df[(arb_df[\"block_number\"] >= pom_block_number) & (arb_df[\"block_number\"] - pom_block_number <= 2)]\n",
    "    if not arb.empty:\n",
    "        arb_logs = parse_record(arb.iloc[0])\n",
    "        arb_assets = set([log.asset for log in arb_logs])\n",
    "        if arb_assets.intersection(pom_assets):\n",
    "            link.append((pom[\"transaction_hash\"], arb.iloc[0][\"transaction_hash\"]))\n",
    "\n",
    "print(len(link))"
   ]
  },
  {
   "cell_type": "code",
   "execution_count": 27,
   "id": "b9095fee-562f-4603-b3c3-187995b94ed0",
   "metadata": {},
   "outputs": [],
   "source": [
    "link_df = pd.DataFrame(link, columns=[\"pom_transaction_hash\",\"arb_transaction_hash\"])\n",
    "pom_df.rename(columns={\"transaction_hash\": \"pom_transaction_hash\"}, inplace=True)\n",
    "arb_df.rename(columns={\"transaction_hash\": \"arb_transaction_hash\"}, inplace=True)\n",
    "merged_pom_df = pd.merge(pom_df, link_df, on=\"pom_transaction_hash\")"
   ]
  },
  {
   "cell_type": "code",
   "execution_count": 28,
   "id": "5dafc692-56fe-49d2-8538-d0b0e8f4dc59",
   "metadata": {},
   "outputs": [
    {
     "data": {
      "text/html": [
       "<div>\n",
       "<style scoped>\n",
       "    .dataframe tbody tr th:only-of-type {\n",
       "        vertical-align: middle;\n",
       "    }\n",
       "\n",
       "    .dataframe tbody tr th {\n",
       "        vertical-align: top;\n",
       "    }\n",
       "\n",
       "    .dataframe thead th {\n",
       "        text-align: right;\n",
       "    }\n",
       "</style>\n",
       "<table border=\"1\" class=\"dataframe\">\n",
       "  <thead>\n",
       "    <tr style=\"text-align: right;\">\n",
       "      <th></th>\n",
       "      <th>block_number</th>\n",
       "      <th>pom_transaction_hash</th>\n",
       "      <th>token_address</th>\n",
       "      <th>from_address</th>\n",
       "      <th>to_address</th>\n",
       "      <th>value</th>\n",
       "      <th>operator</th>\n",
       "      <th>recipient</th>\n",
       "      <th>is_trade</th>\n",
       "      <th>include</th>\n",
       "      <th>arb_transaction_hash</th>\n",
       "    </tr>\n",
       "  </thead>\n",
       "  <tbody>\n",
       "    <tr>\n",
       "      <th>0</th>\n",
       "      <td>12465434</td>\n",
       "      <td>0x5dccf7377422eaa76613b770b088d7edf7c2bcfae00e...</td>\n",
       "      <td>[0x03ab458634910aad20ef5f1c8ee96f1d6ac54919, 0...</td>\n",
       "      <td>[0xd4ad5d62dce1a8bf661777a5c1df79bd12ac8f1d, 0...</td>\n",
       "      <td>[0x22f9dcf4647084d6c31b2765f6910cd85c178c18, 0...</td>\n",
       "      <td>[100000000000000000000000, 5645576516772765803...</td>\n",
       "      <td>0xd4ad5d62dce1a8bf661777a5c1df79bd12ac8f1d</td>\n",
       "      <td>0xd4ad5d62dce1a8bf661777a5c1df79bd12ac8f1d</td>\n",
       "      <td>True</td>\n",
       "      <td>True</td>\n",
       "      <td>0x146d1444865b017ea9635ff1c0c7a7c15516fa409e30...</td>\n",
       "    </tr>\n",
       "    <tr>\n",
       "      <th>1</th>\n",
       "      <td>12923530</td>\n",
       "      <td>0xca0c565f84ed6a3f984972aedaf74ebf98d173e950f2...</td>\n",
       "      <td>[0x03ab458634910aad20ef5f1c8ee96f1d6ac54919, 0...</td>\n",
       "      <td>[0x92e74e50edce4573d181c03ca889f72640cd3a94, 0...</td>\n",
       "      <td>[0x22f9dcf4647084d6c31b2765f6910cd85c178c18, 0...</td>\n",
       "      <td>[18000000000000000000000, 54013118772, 1800000...</td>\n",
       "      <td>0x92e74e50edce4573d181c03ca889f72640cd3a94</td>\n",
       "      <td>0x92e74e50edce4573d181c03ca889f72640cd3a94</td>\n",
       "      <td>True</td>\n",
       "      <td>True</td>\n",
       "      <td>0x595c9b15fa0d2e20d6e9a2984db7689d18b40e316773...</td>\n",
       "    </tr>\n",
       "    <tr>\n",
       "      <th>2</th>\n",
       "      <td>12367976</td>\n",
       "      <td>0xaae9835fbdf73c594693d8c99ee6fd3a69de6c1a5244...</td>\n",
       "      <td>[0x03ab458634910aad20ef5f1c8ee96f1d6ac54919, 0...</td>\n",
       "      <td>[0xd4ad5d62dce1a8bf661777a5c1df79bd12ac8f1d, 0...</td>\n",
       "      <td>[0x8ae720a71622e824f576b4a8c03031066548a3b1, 0...</td>\n",
       "      <td>[35504727364592962230998, 31420791200966009936...</td>\n",
       "      <td>0xd4ad5d62dce1a8bf661777a5c1df79bd12ac8f1d</td>\n",
       "      <td>0xd4ad5d62dce1a8bf661777a5c1df79bd12ac8f1d</td>\n",
       "      <td>True</td>\n",
       "      <td>True</td>\n",
       "      <td>0x18945e46cd925cbe8b1c0f64ba852ffe06b7a9bbcbea...</td>\n",
       "    </tr>\n",
       "    <tr>\n",
       "      <th>3</th>\n",
       "      <td>12194336</td>\n",
       "      <td>0x99fa6f5af9c414d72554f2579f4e5239ede256c45a99...</td>\n",
       "      <td>[0x03ab458634910aad20ef5f1c8ee96f1d6ac54919, 0...</td>\n",
       "      <td>[0x7f977c4cff92c055173b865bcbd8158161ab95a9, 0...</td>\n",
       "      <td>[0x8ae720a71622e824f576b4a8c03031066548a3b1, 0...</td>\n",
       "      <td>[70000000000000000000000, 10534880207223427197...</td>\n",
       "      <td>0x7f977c4cff92c055173b865bcbd8158161ab95a9</td>\n",
       "      <td>0x7f977c4cff92c055173b865bcbd8158161ab95a9</td>\n",
       "      <td>True</td>\n",
       "      <td>True</td>\n",
       "      <td>0xfbe9dc34fd3d63a57b574c920fd223b71f2b06c3c9c1...</td>\n",
       "    </tr>\n",
       "    <tr>\n",
       "      <th>4</th>\n",
       "      <td>12531411</td>\n",
       "      <td>0xa22d3350fbde7901b3d355260ebb0a12b83ffb406bf6...</td>\n",
       "      <td>[0x1f573d6fb3f13d689ff844b4ce37794d79a7ff1c, 0...</td>\n",
       "      <td>[0x649e74b1cebafe73250b5bd1416dc3c9040680ac, 0...</td>\n",
       "      <td>[0xfd3dfb524b2da40c8a6d703c62be36b5d8540626, 0...</td>\n",
       "      <td>[480000000045371620249192, 4800000000453716202...</td>\n",
       "      <td>0x649e74b1cebafe73250b5bd1416dc3c9040680ac</td>\n",
       "      <td>0x649e74b1cebafe73250b5bd1416dc3c9040680ac</td>\n",
       "      <td>True</td>\n",
       "      <td>True</td>\n",
       "      <td>0x3645fdd74f85b482ee0e35cb677371edf8e4db3aa224...</td>\n",
       "    </tr>\n",
       "  </tbody>\n",
       "</table>\n",
       "</div>"
      ],
      "text/plain": [
       "   block_number                               pom_transaction_hash  \\\n",
       "0      12465434  0x5dccf7377422eaa76613b770b088d7edf7c2bcfae00e...   \n",
       "1      12923530  0xca0c565f84ed6a3f984972aedaf74ebf98d173e950f2...   \n",
       "2      12367976  0xaae9835fbdf73c594693d8c99ee6fd3a69de6c1a5244...   \n",
       "3      12194336  0x99fa6f5af9c414d72554f2579f4e5239ede256c45a99...   \n",
       "4      12531411  0xa22d3350fbde7901b3d355260ebb0a12b83ffb406bf6...   \n",
       "\n",
       "                                       token_address  \\\n",
       "0  [0x03ab458634910aad20ef5f1c8ee96f1d6ac54919, 0...   \n",
       "1  [0x03ab458634910aad20ef5f1c8ee96f1d6ac54919, 0...   \n",
       "2  [0x03ab458634910aad20ef5f1c8ee96f1d6ac54919, 0...   \n",
       "3  [0x03ab458634910aad20ef5f1c8ee96f1d6ac54919, 0...   \n",
       "4  [0x1f573d6fb3f13d689ff844b4ce37794d79a7ff1c, 0...   \n",
       "\n",
       "                                        from_address  \\\n",
       "0  [0xd4ad5d62dce1a8bf661777a5c1df79bd12ac8f1d, 0...   \n",
       "1  [0x92e74e50edce4573d181c03ca889f72640cd3a94, 0...   \n",
       "2  [0xd4ad5d62dce1a8bf661777a5c1df79bd12ac8f1d, 0...   \n",
       "3  [0x7f977c4cff92c055173b865bcbd8158161ab95a9, 0...   \n",
       "4  [0x649e74b1cebafe73250b5bd1416dc3c9040680ac, 0...   \n",
       "\n",
       "                                          to_address  \\\n",
       "0  [0x22f9dcf4647084d6c31b2765f6910cd85c178c18, 0...   \n",
       "1  [0x22f9dcf4647084d6c31b2765f6910cd85c178c18, 0...   \n",
       "2  [0x8ae720a71622e824f576b4a8c03031066548a3b1, 0...   \n",
       "3  [0x8ae720a71622e824f576b4a8c03031066548a3b1, 0...   \n",
       "4  [0xfd3dfb524b2da40c8a6d703c62be36b5d8540626, 0...   \n",
       "\n",
       "                                               value  \\\n",
       "0  [100000000000000000000000, 5645576516772765803...   \n",
       "1  [18000000000000000000000, 54013118772, 1800000...   \n",
       "2  [35504727364592962230998, 31420791200966009936...   \n",
       "3  [70000000000000000000000, 10534880207223427197...   \n",
       "4  [480000000045371620249192, 4800000000453716202...   \n",
       "\n",
       "                                     operator  \\\n",
       "0  0xd4ad5d62dce1a8bf661777a5c1df79bd12ac8f1d   \n",
       "1  0x92e74e50edce4573d181c03ca889f72640cd3a94   \n",
       "2  0xd4ad5d62dce1a8bf661777a5c1df79bd12ac8f1d   \n",
       "3  0x7f977c4cff92c055173b865bcbd8158161ab95a9   \n",
       "4  0x649e74b1cebafe73250b5bd1416dc3c9040680ac   \n",
       "\n",
       "                                    recipient  is_trade  include  \\\n",
       "0  0xd4ad5d62dce1a8bf661777a5c1df79bd12ac8f1d      True     True   \n",
       "1  0x92e74e50edce4573d181c03ca889f72640cd3a94      True     True   \n",
       "2  0xd4ad5d62dce1a8bf661777a5c1df79bd12ac8f1d      True     True   \n",
       "3  0x7f977c4cff92c055173b865bcbd8158161ab95a9      True     True   \n",
       "4  0x649e74b1cebafe73250b5bd1416dc3c9040680ac      True     True   \n",
       "\n",
       "                                arb_transaction_hash  \n",
       "0  0x146d1444865b017ea9635ff1c0c7a7c15516fa409e30...  \n",
       "1  0x595c9b15fa0d2e20d6e9a2984db7689d18b40e316773...  \n",
       "2  0x18945e46cd925cbe8b1c0f64ba852ffe06b7a9bbcbea...  \n",
       "3  0xfbe9dc34fd3d63a57b574c920fd223b71f2b06c3c9c1...  \n",
       "4  0x3645fdd74f85b482ee0e35cb677371edf8e4db3aa224...  "
      ]
     },
     "execution_count": 28,
     "metadata": {},
     "output_type": "execute_result"
    }
   ],
   "source": [
    "merged_pom_df.head(5)"
   ]
  },
  {
   "cell_type": "code",
   "execution_count": null,
   "id": "1e0dcfea-c7fe-4b72-81e4-119bbe945377",
   "metadata": {},
   "outputs": [],
   "source": [
    "# start 67.9hr, 434\n",
    "# 2021-06-01 00:00 12545219, 89426448, 13.9hr\n",
    "# 2022-01-01 00:00 13916166, 108462953, 16.8 hr\n",
    "# 2022-06-01 00:00 14881677, 57243186, 8.9hr\n",
    "# 2023-01-01 00:00 16308190, 92805628, 14.4 hr\n",
    "# end,                       88073705, 13.9 hr"
   ]
  },
  {
   "cell_type": "code",
   "execution_count": null,
   "id": "5124e405-1734-4438-a293-4d9e76c9594a",
   "metadata": {},
   "outputs": [],
   "source": [
    "len(merged_pom_df[merged_pom_df[\"block_number\"] < 12545219])"
   ]
  },
  {
   "cell_type": "code",
   "execution_count": null,
   "id": "835100a3-4fae-4563-bc7f-d8a6dbf8b781",
   "metadata": {},
   "outputs": [],
   "source": [
    "len(merged_pom_df[(12545219 <= merged_pom_df[\"block_number\"]) & (merged_pom_df[\"block_number\"] < 13916166)])"
   ]
  },
  {
   "cell_type": "code",
   "execution_count": null,
   "id": "1c47647a-62ab-433b-b750-9f155d1a83a7",
   "metadata": {},
   "outputs": [],
   "source": [
    "len(merged_pom_df[(13916166 <= merged_pom_df[\"block_number\"]) & (merged_pom_df[\"block_number\"] < 14881677)])"
   ]
  },
  {
   "cell_type": "code",
   "execution_count": null,
   "id": "70f65247-7439-443c-854d-8f469a47e44c",
   "metadata": {},
   "outputs": [],
   "source": [
    "len(merged_pom_df[(14881677 <= merged_pom_df[\"block_number\"]) & (merged_pom_df[\"block_number\"] < 16308190)])"
   ]
  },
  {
   "cell_type": "code",
   "execution_count": null,
   "id": "7e4491d6-7e36-46ce-b0fc-301f98b93048",
   "metadata": {},
   "outputs": [],
   "source": [
    "len(merged_pom_df[(16308190 <= merged_pom_df[\"block_number\"])])"
   ]
  },
  {
   "cell_type": "code",
   "execution_count": null,
   "id": "18c58824-e580-43bc-9ad8-24551531a518",
   "metadata": {},
   "outputs": [],
   "source": [
    "# start 67.9hr, 434\n",
    "# 2021-03-01 00:00 11948960\n",
    "# 2021-06-01 00:00 12545219\n",
    "# 2021-09-01 00:00 13136427\n",
    "# 2022-01-01 00:00 13916166\n",
    "# 2022-03-01 00:00 14297759\n",
    "# 2022-06-01 00:00 14881677\n",
    "# 2022-09-01 00:00 15449618\n",
    "# 2023-01-01 00:00 16308190\n",
    "# 2023-03-01 00:00 16730072\n",
    "# end,                       88073705, 13.9 hr"
   ]
  },
  {
   "cell_type": "code",
   "execution_count": 29,
   "id": "334ffbbd-04b5-44cf-b15e-fe955cde8b66",
   "metadata": {},
   "outputs": [
    {
     "data": {
      "text/plain": [
       "[(0, 11948960),\n",
       " (11948960, 12545219),\n",
       " (12545219, 13136427),\n",
       " (13136427, 13916166),\n",
       " (13916166, 14297759),\n",
       " (14297759, 14881677),\n",
       " (14881677, 15449618),\n",
       " (15449618, 16308190),\n",
       " (16308190, 16730072),\n",
       " (16730072, 99999999)]"
      ]
     },
     "execution_count": 29,
     "metadata": {},
     "output_type": "execute_result"
    }
   ],
   "source": [
    "block_range = [0, 11948960, 12545219, 13136427, 13916166, 14297759, 14881677, 15449618, 16308190, 16_730_072, 99_999_999]\n",
    "block_range_lshift = block_range[1:] + [99_999_999]\n",
    "block_range_zip = list(zip(block_range, block_range_lshift))[:-1]\n",
    "block_range_zip"
   ]
  },
  {
   "cell_type": "code",
   "execution_count": 30,
   "id": "4a61d170-df91-4d74-8a16-9c99b23dd238",
   "metadata": {},
   "outputs": [
    {
     "name": "stdout",
     "output_type": "stream",
     "text": [
      "[0,11948960]: 1409\n",
      "[11948960,12545219]: 3258\n",
      "[12545219,13136427]: 2495\n",
      "[13136427,13916166]: 1726\n",
      "[13916166,14297759]: 458\n",
      "[14297759,14881677]: 1306\n",
      "[14881677,15449618]: 2426\n",
      "[15449618,16308190]: 2256\n",
      "[16308190,16730072]: 401\n",
      "[16730072,99999999]: 588\n"
     ]
    }
   ],
   "source": [
    "for (interval_i, interval_j) in block_range_zip:\n",
    "    poma_number = len(merged_pom_df[(interval_i <= merged_pom_df[\"block_number\"]) & (merged_pom_df[\"block_number\"] < interval_j)])\n",
    "    print(f\"[{interval_i},{interval_j}]: {poma_number}\")"
   ]
  },
  {
   "cell_type": "code",
   "execution_count": null,
   "id": "0ac77e59-296a-4ca3-9a64-3dd08dc45f99",
   "metadata": {},
   "outputs": [],
   "source": [
    "# 2021-03-01 11948960 1409\n",
    "# 2021-06-01 12545219 3258\n",
    "# 2021-09-01 13136427 2495\n",
    "# 2022-01-01 13916166 1726\n",
    "# 2022-03-01 14297759 458\n",
    "# 2022-06-01 14881677 1306\n",
    "# 2022-09-01 15449618 2426\n",
    "# 2023-01-01 16308190 2256\n",
    "# 2023-03-01 16730072 401\n",
    "# 2023-05-31 99999999 588"
   ]
  },
  {
   "cell_type": "code",
   "execution_count": 35,
   "id": "5efd69ae-6168-43e7-91b0-6871a04f50df",
   "metadata": {},
   "outputs": [
    {
     "data": {
      "text/plain": [
       "24313"
      ]
     },
     "execution_count": 35,
     "metadata": {},
     "output_type": "execute_result"
    }
   ],
   "source": [
    "len(link_5)"
   ]
  },
  {
   "cell_type": "code",
   "execution_count": 34,
   "id": "eb318c47-71ee-41fb-9c78-dbb4b6267ef6",
   "metadata": {},
   "outputs": [
    {
     "name": "stderr",
     "output_type": "stream",
     "text": [
      "58957it [02:24, 406.68it/s]\n"
     ]
    }
   ],
   "source": [
    "link = []\n",
    "for _, pom in tqdm(pom_df.iterrows()):\n",
    "    pom_logs = parse_record(pom)\n",
    "    pom_assets = set([log.asset for log in pom_logs])\n",
    "    pom_block_number = pom[\"block_number\"]\n",
    "    arb = arb_df[(arb_df[\"block_number\"] >= pom_block_number) & (arb_df[\"block_number\"] - pom_block_number <= 10)]\n",
    "    if not arb.empty:\n",
    "        arb_logs = parse_record(arb.iloc[0])\n",
    "        arb_assets = set([log.asset for log in arb_logs])\n",
    "        if arb_assets.intersection(pom_assets):\n",
    "            link.append((pom[\"pom_transaction_hash\"], arb.iloc[0][\"arb_transaction_hash\"]))"
   ]
  },
  {
   "cell_type": "code",
   "execution_count": 36,
   "id": "85a1641f-883a-43f2-b787-00eb57c0f6e4",
   "metadata": {},
   "outputs": [
    {
     "name": "stderr",
     "output_type": "stream",
     "text": [
      "58957it [02:22, 415.16it/s]\n"
     ]
    }
   ],
   "source": [
    "link_5 = []\n",
    "for _, pom in tqdm(pom_df.iterrows()):\n",
    "    pom_logs = parse_record(pom)\n",
    "    pom_assets = set([log.asset for log in pom_logs])\n",
    "    pom_block_number = pom[\"block_number\"]\n",
    "    arb = arb_df[(arb_df[\"block_number\"] >= pom_block_number) & (arb_df[\"block_number\"] - pom_block_number <= 5)]\n",
    "    if not arb.empty:\n",
    "        arb_logs = parse_record(arb.iloc[0])\n",
    "        arb_assets = set([log.asset for log in arb_logs])\n",
    "        if arb_assets.intersection(pom_assets):\n",
    "            link_5.append((pom[\"pom_transaction_hash\"], arb.iloc[0][\"arb_transaction_hash\"]))"
   ]
  },
  {
   "cell_type": "code",
   "execution_count": 37,
   "id": "edb5f408-ac5d-47f8-86be-ae0282eda356",
   "metadata": {},
   "outputs": [
    {
     "data": {
      "text/plain": [
       "20503"
      ]
     },
     "execution_count": 37,
     "metadata": {},
     "output_type": "execute_result"
    }
   ],
   "source": [
    "len(link_5)"
   ]
  },
  {
   "cell_type": "code",
   "execution_count": 38,
   "id": "1df65235-9380-486e-8468-4e3ae23ca598",
   "metadata": {},
   "outputs": [],
   "source": [
    "import pandas as pd\n",
    "\n",
    "fn = \"../tokens/scrape_erc20/erc20.jsonlines\"\n",
    "token_df = pd.read_json(fn, lines=True)\n",
    "\n",
    "token_supply = {}\n",
    "for _, row in token_df.iterrows():\n",
    "    token_supply[row[\"address\"]] = int(row[\"total_supply\"])\n",
    "    \n",
    "token_decimal = {}\n",
    "for _, row in token_df.iterrows():\n",
    "    token_decimal[row[\"address\"]] = int(row[\"decimals\"])"
   ]
  },
  {
   "cell_type": "code",
   "execution_count": 39,
   "id": "f3c3db36-5c24-434c-98be-9cb29086e877",
   "metadata": {},
   "outputs": [
    {
     "data": {
      "text/html": [
       "<div>\n",
       "<style scoped>\n",
       "    .dataframe tbody tr th:only-of-type {\n",
       "        vertical-align: middle;\n",
       "    }\n",
       "\n",
       "    .dataframe tbody tr th {\n",
       "        vertical-align: top;\n",
       "    }\n",
       "\n",
       "    .dataframe thead th {\n",
       "        text-align: right;\n",
       "    }\n",
       "</style>\n",
       "<table border=\"1\" class=\"dataframe\">\n",
       "  <thead>\n",
       "    <tr style=\"text-align: right;\">\n",
       "      <th></th>\n",
       "      <th>0</th>\n",
       "    </tr>\n",
       "  </thead>\n",
       "  <tbody>\n",
       "    <tr>\n",
       "      <th>312</th>\n",
       "      <td>0x6bfcb835d870baab03a5480d4844873cc26229ba8471...</td>\n",
       "    </tr>\n",
       "  </tbody>\n",
       "</table>\n",
       "</div>"
      ],
      "text/plain": [
       "                                                     0\n",
       "312  0x6bfcb835d870baab03a5480d4844873cc26229ba8471..."
      ]
     },
     "execution_count": 39,
     "metadata": {},
     "output_type": "execute_result"
    }
   ],
   "source": [
    "filepath = \"drf_000\"\n",
    "poma = pd.read_csv(filepath)\n",
    "poma.sample()\n"
   ]
  },
  {
   "cell_type": "code",
   "execution_count": 40,
   "id": "dd23849b-0979-4310-aba9-f79a285be135",
   "metadata": {},
   "outputs": [],
   "source": [
    "import itertools\n",
    "\n",
    "ZERO_ADDRESS = \"0x0000000000000000000000000000000000000000\"\n",
    "ZERO_AMOUNT = \"0\"\n",
    "def is_transfer_normal(log):\n",
    "    return (log.sender != log.receiver \n",
    "        and log.sender != ZERO_ADDRESS\n",
    "        and log.receiver != ZERO_ADDRESS\n",
    "        and log.amount != ZERO_AMOUNT)\n",
    "\n",
    "def is_transfer_minting(log):\n",
    "    return (log.sender == ZERO_ADDRESS and log.amount != ZERO_AMOUNT)\n",
    "\n",
    "def is_transfer_burning(log):\n",
    "    return (log.receiver == ZERO_ADDRESS and log.amount != ZERO_AMOUNT)\n",
    "\n",
    "def has_transfer_normal(logs):\n",
    "    return [log for log in logs if is_transfer_normal(log)]\n",
    "\n",
    "def has_transfer_minting(logs):\n",
    "    return [log for log in logs if is_transfer_minting(log)]\n",
    "\n",
    "def has_transfer_burning(logs):\n",
    "    return [log for log in logs if is_transfer_burning(log)]\n",
    "\n",
    "def has_liquidity_mining(logs):\n",
    "    ts = has_transfer_normal(logs)\n",
    "    tms = has_transfer_minting(logs)\n",
    "    if not ts or not tms:\n",
    "        return None\n",
    "    for t, tm in pairwise(ts, tms):\n",
    "        if t and tm and t.asset != tm.asset:\n",
    "            trade_dict = {\"operator\": t.sender, \n",
    "                    \"recipient\": tm.receiver, \n",
    "                    \"pool\": t.receiver, \n",
    "                    \"asset_in\": t.asset,\n",
    "                    \"asset_out\": tm.asset,\n",
    "                    \"amount_in\": t.amount,\n",
    "                    \"amount_out\": tm.amount,\n",
    "                    \"log_idx\": [t.idx, tm.idx]}\n",
    "            yield Trade(**trade_dict)\n",
    "        return None\n",
    "\n",
    "def has_liquidity_cancel(logs):\n",
    "    ts = has_transfer_normal(logs)\n",
    "    tbs = has_transfer_burning(logs)\n",
    "    if not ts or not tbs:\n",
    "        return None\n",
    "    for t, tb in pairwise(ts, tbs):\n",
    "        if t and tb and t.asset != tb.asset:\n",
    "            trade_dict =  {\"operator\": tb.sender, \n",
    "                    \"recipient\": t.receiver, \n",
    "                    \"pool\": t.sender, \n",
    "                    \"asset_in\": tb.asset,\n",
    "                    \"asset_out\": t.asset,\n",
    "                    \"amount_in\": tb.amount,\n",
    "                    \"amount_out\": t.amount,\n",
    "                    \"log_idx\": [t.idx, tb.idx]}\n",
    "            yield Trade(**trade_dict)\n",
    "    return None\n",
    "\n",
    "def pairwise(iterable_1, iterable_2=None):\n",
    "    if iterable_2 is None:\n",
    "        return itertools.product(iterable_1, iterable_1)\n",
    "    return itertools.product(iterable_1, iterable_2)\n",
    "\n",
    "def has_trade(logs):\n",
    "    t = has_transfer_normal(logs)\n",
    "    if not t:\n",
    "        return None\n",
    "    for t1, t2 in pairwise(t):\n",
    "        if t1 and t2 and t1.asset != t2.asset and t1.receiver == t2.sender:\n",
    "            trade_dict = {\"operator\": t1.sender, \n",
    "                    \"recipient\": t2.receiver, \n",
    "                    \"pool\": t1.receiver, \n",
    "                    \"asset_in\": t1.asset,\n",
    "                    \"asset_out\": t2.asset,\n",
    "                    \"amount_in\": t1.amount,\n",
    "                    \"amount_out\": t2.amount,\n",
    "                    \"log_idx\": [t1.idx, t2.idx]}\n",
    "            yield Trade(**trade_dict)\n",
    "    return None\n",
    "\n",
    "def has_trade_alt(logs):\n",
    "    lms = has_liquidity_mining(logs)\n",
    "    lcs = has_liquidity_cancel(logs)\n",
    "    if not lms or lcs:\n",
    "        return None\n",
    "    for lm, lc in pairwise(lms, lcs):\n",
    "        if (lm and lc \n",
    "            and lm.recipient == lc.operator \n",
    "            and lm.asset_in != lc.asset_out \n",
    "            and lm.asset_out != lc.asset_in):\n",
    "            trade_dict =  {\"operator\": lm.operator, \n",
    "                    \"recipient\": lc.recipient, \n",
    "                    \"pool\": lm.recipient, \n",
    "                    \"asset_in\": lm.asset_in,\n",
    "                    \"asset_out\": lc.asset_out,\n",
    "                    \"amount_in\": lm.amount_in,\n",
    "                    \"amount_out\": lc.amount_out,\n",
    "                    \"log_idx\": [lm.idx, lc.idx]}\n",
    "            yield Trade(**trade_dict)\n",
    "    return None\n",
    "\n"
   ]
  },
  {
   "cell_type": "code",
   "execution_count": 41,
   "id": "7b2d2ec1-0745-4214-8770-aae21fbcb966",
   "metadata": {},
   "outputs": [],
   "source": [
    "def parse_record(record):\n",
    "    assets = record.token_address\n",
    "    senders = record.from_address\n",
    "    receivers = record.to_address\n",
    "    amounts = record.value\n",
    "    logs = []\n",
    "    for i in range(len(assets)):      \n",
    "        log_dict = {\n",
    "            \"idx\": i,\n",
    "            \"asset\": assets[i],\n",
    "            \"sender\": senders[i],\n",
    "            \"receiver\": receivers[i],\n",
    "            \"amount\": amounts[i],\n",
    "        }\n",
    "        logs.append(Log(**log_dict))\n",
    "    return logs"
   ]
  },
  {
   "cell_type": "code",
   "execution_count": 42,
   "id": "9a028390-a2c0-490e-8d27-8d5ccb139bff",
   "metadata": {},
   "outputs": [],
   "source": [
    "PERCENTAGE = 0.02\n",
    "\n",
    "def has_trade_huge(trades, percentage=PERCENTAGE):\n",
    "    for trade in trades:\n",
    "        if (int(trade.amount_in) / (10 ** token_decimal[trade.asset_in]) >= token_supply[trade.asset_in] * PERCENTAGE \n",
    "                or int(trade.amount_out) / (10 ** token_decimal[trade.asset_out]) >= token_supply[trade.asset_out] * PERCENTAGE ):\n",
    "            yield trade\n",
    "            \n",
    "def has_wash_trade(trades, percentage=PERCENTAGE):\n",
    "    total_amount = {}\n",
    "    for trade in trades:\n",
    "        if trade.asset_out not in total_amount:\n",
    "            total_amount[trade.asset_out] = int(trade.amount_out)\n",
    "        else:\n",
    "            total_amount[trade.asset_out] += int(trade.amount_out)\n",
    "    for token, amount in total_amount.items():\n",
    "        if total_amount[token] / (10 ** token_decimal[token]) >= token_supply[token] * PERCENTAGE:\n",
    "            return True\n",
    "    return False"
   ]
  },
  {
   "cell_type": "code",
   "execution_count": 43,
   "id": "c2872508-423d-4f0a-a76e-cce3a87eb3b5",
   "metadata": {},
   "outputs": [],
   "source": [
    "def is_direct_pm(logs, percentage):\n",
    "    trades = list(has_trade(logs)) + list(has_trade_alt(logs))\n",
    "    huge_trades = list(has_trade_huge(trades, percentage))\n",
    "    if huge_trades:\n",
    "        return True\n",
    "    if has_wash_trade(trades, percentage):\n",
    "        return True\n",
    "    return False"
   ]
  },
  {
   "cell_type": "code",
   "execution_count": 46,
   "id": "2c5890f3-fed9-47b1-8972-395d3a2ca9f0",
   "metadata": {},
   "outputs": [
    {
     "name": "stderr",
     "output_type": "stream",
     "text": [
      "100%|███████████████████████████████████████████████████████████████████████| 400/400 [1:02:46<00:00,  9.42s/it]\n"
     ]
    }
   ],
   "source": [
    "from tqdm import tqdm\n",
    "\n",
    "PERCENTAGE = 0.015\n",
    "output_path  =\"X:\\pomabuster\\pom\\pom_015.jsonl\"\n",
    "\n",
    "fn_template = \"X:\\pomabuster\\swap-new\\swap-000000000\" # 000 - 399 # swap-000000000000\n",
    "for i in tqdm(range(400)):\n",
    "    if len(str(i)) == 1:\n",
    "        file_number = \"00\" + str(i)\n",
    "    elif len(str(i)) == 2:\n",
    "        file_number = \"0\" + str(i)\n",
    "    else:\n",
    "        file_number = str(i)\n",
    "    # print(file_number)\n",
    "    df = pd.read_json(fn_template + file_number, lines=True)\n",
    "    pm_txns = []\n",
    "    for _, record in df.iterrows():\n",
    "        logs = parse_record(record)\n",
    "        if is_direct_pm(logs, PERCENTAGE):\n",
    "            pm_txns.append(record.transaction_hash)\n",
    "    pm_df = df.loc[df[\"transaction_hash\"].isin(pm_txns)]\n",
    "    with open(output_path, \"a\") as f:\n",
    "        f.write(pm_df.to_json(orient='records', lines=True))"
   ]
  },
  {
   "cell_type": "code",
   "execution_count": 47,
   "id": "ea84ed47-6c26-42a6-95e0-bc54c05cea31",
   "metadata": {},
   "outputs": [],
   "source": [
    "pom_fn = \"X:\\\\pomabuster\\\\pom\\\\pom_015.jsonl\"\n",
    "arb_fn = \"X:\\\\pomabuster\\\\arb\\\\arb2.jsonl\"\n",
    "\n",
    "pom_015_df = pd.read_json(pom_fn, lines=True)\n",
    "arb_df = pd.read_json(arb_fn, lines=True)"
   ]
  },
  {
   "cell_type": "code",
   "execution_count": 57,
   "id": "e625c34b-4e4d-44eb-b191-90147e6c4da9",
   "metadata": {},
   "outputs": [
    {
     "name": "stderr",
     "output_type": "stream",
     "text": [
      "78975it [03:39, 359.03it/s]\n"
     ]
    }
   ],
   "source": [
    "link_015 = []\n",
    "for _, pom in tqdm(pom_015_df.iterrows()):\n",
    "    pom_logs = parse_record(pom)\n",
    "    pom_assets = set([log.asset for log in pom_logs])\n",
    "    pom_block_number = pom[\"block_number\"]\n",
    "    arb = arb_df[(arb_df[\"block_number\"] >= pom_block_number) & (arb_df[\"block_number\"] - pom_block_number <= 2)]\n",
    "    if not arb.empty:\n",
    "        arb_logs = parse_record(arb.iloc[0])\n",
    "        arb_assets = set([log.asset for log in arb_logs])\n",
    "        if arb_assets.intersection(pom_assets):\n",
    "            link_015.append((pom[\"transaction_hash\"], arb.iloc[0][\"transaction_hash\"]))"
   ]
  },
  {
   "cell_type": "code",
   "execution_count": 58,
   "id": "543632f5-2da4-4e4b-9cd6-a4009d5bd381",
   "metadata": {},
   "outputs": [
    {
     "data": {
      "text/plain": [
       "23146"
      ]
     },
     "execution_count": 58,
     "metadata": {},
     "output_type": "execute_result"
    }
   ],
   "source": [
    "len(link_015)"
   ]
  },
  {
   "cell_type": "code",
   "execution_count": 50,
   "id": "02d12e90-d63d-4ff1-ab51-743e5122b966",
   "metadata": {},
   "outputs": [
    {
     "name": "stderr",
     "output_type": "stream",
     "text": [
      "100%|███████████████████████████████████████████████████████████████████████| 400/400 [1:02:54<00:00,  9.44s/it]\n"
     ]
    }
   ],
   "source": [
    "PERCENTAGE = 0.025\n",
    "output_path  =\"X:\\pomabuster\\pom\\pom_025.jsonl\"\n",
    "\n",
    "fn_template = \"X:\\pomabuster\\swap-new\\swap-000000000\" # 000 - 399 # swap-000000000000\n",
    "for i in tqdm(range(400)):\n",
    "    if len(str(i)) == 1:\n",
    "        file_number = \"00\" + str(i)\n",
    "    elif len(str(i)) == 2:\n",
    "        file_number = \"0\" + str(i)\n",
    "    else:\n",
    "        file_number = str(i)\n",
    "    # print(file_number)\n",
    "    df = pd.read_json(fn_template + file_number, lines=True)\n",
    "    pm_txns = []\n",
    "    for _, record in df.iterrows():\n",
    "        logs = parse_record(record)\n",
    "        if is_direct_pm(logs, PERCENTAGE):\n",
    "            pm_txns.append(record.transaction_hash)\n",
    "    pm_df = df.loc[df[\"transaction_hash\"].isin(pm_txns)]\n",
    "    with open(output_path, \"a\") as f:\n",
    "        f.write(pm_df.to_json(orient='records', lines=True))"
   ]
  },
  {
   "cell_type": "code",
   "execution_count": 59,
   "id": "b4b866d7-0fd0-480f-a447-0819ac4a8289",
   "metadata": {},
   "outputs": [
    {
     "name": "stderr",
     "output_type": "stream",
     "text": [
      "46082it [01:46, 434.67it/s]\n"
     ]
    }
   ],
   "source": [
    "pom_fn = \"X:\\\\pomabuster\\\\pom\\\\pom_025.jsonl\"\n",
    "arb_fn = \"X:\\\\pomabuster\\\\arb\\\\arb2.jsonl\"\n",
    "\n",
    "pom_025_df = pd.read_json(pom_fn, lines=True)\n",
    "\n",
    "link_025 = []\n",
    "for _, pom in tqdm(pom_025_df.iterrows()):\n",
    "    pom_logs = parse_record(pom)\n",
    "    pom_assets = set([log.asset for log in pom_logs])\n",
    "    pom_block_number = pom[\"block_number\"]\n",
    "    arb = arb_df[(arb_df[\"block_number\"] >= pom_block_number) & (arb_df[\"block_number\"] - pom_block_number <= 2)]\n",
    "    if not arb.empty:\n",
    "        arb_logs = parse_record(arb.iloc[0])\n",
    "        arb_assets = set([log.asset for log in arb_logs])\n",
    "        if arb_assets.intersection(pom_assets):\n",
    "            link_025.append((pom[\"transaction_hash\"], arb.iloc[0][\"transaction_hash\"]))"
   ]
  },
  {
   "cell_type": "code",
   "execution_count": 60,
   "id": "ce4b7199-1ef9-4511-a62b-a39feb5b1052",
   "metadata": {},
   "outputs": [
    {
     "data": {
      "text/plain": [
       "12423"
      ]
     },
     "execution_count": 60,
     "metadata": {},
     "output_type": "execute_result"
    }
   ],
   "source": [
    "len(link_025)"
   ]
  },
  {
   "cell_type": "code",
   "execution_count": null,
   "id": "de960224-fe54-48e3-a0de-2b0f8b7fb905",
   "metadata": {},
   "outputs": [],
   "source": []
  }
 ],
 "metadata": {
  "kernelspec": {
   "display_name": "Python 3 (ipykernel)",
   "language": "python",
   "name": "python3"
  },
  "language_info": {
   "codemirror_mode": {
    "name": "ipython",
    "version": 3
   },
   "file_extension": ".py",
   "mimetype": "text/x-python",
   "name": "python",
   "nbconvert_exporter": "python",
   "pygments_lexer": "ipython3",
   "version": "3.10.0"
  }
 },
 "nbformat": 4,
 "nbformat_minor": 5
}
